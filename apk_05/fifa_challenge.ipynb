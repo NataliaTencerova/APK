{
 "cells": [
  {
   "cell_type": "code",
   "execution_count": 38,
   "id": "4a8960e1",
   "metadata": {},
   "outputs": [],
   "source": [
    "from lxml import etree as ET\n",
    "from yaml import full_load as yaml_full_load\n",
    "from json import dump as json_dump\n",
    "import numpy as np"
   ]
  },
  {
   "cell_type": "markdown",
   "id": "ce284ad1",
   "metadata": {},
   "source": [
    "Pro inicializaci spustit následující buňku.\n",
    "\n",
    "Pro generování výstupního JSON souboru z proměnné ```tasks``` spustit poslední buňku."
   ]
  },
  {
   "cell_type": "code",
   "execution_count": 39,
   "id": "1d834e07",
   "metadata": {},
   "outputs": [
    {
     "name": "stdout",
     "output_type": "stream",
     "text": [
      "Config file cfg_Nitilki.yaml loaded.\n",
      "full_name: Natalia Tencerova\n",
      "lecture_date: 15/10/2024\n",
      "username: Nitilki\n"
     ]
    }
   ],
   "source": [
    "# Load config\n",
    "CONFIG_FILE = 'cfg_Nitilki.yaml'\n",
    "\n",
    "with open(CONFIG_FILE, 'r') as fr:\n",
    "    cfg = yaml_full_load(fr)['ite_cfg']\n",
    "    \n",
    "print('Config file', CONFIG_FILE, 'loaded.')\n",
    "for key, val in cfg.items():\n",
    "    print(key+':', val)\n",
    "    \n",
    "# Parse XML\n",
    "tree = ET.parse(\"football.xml\")\n",
    "root = tree.getroot()\n",
    "\n",
    "# Init a tasks tray (output)\n",
    "tasks = {'task_'+str(i).zfill(2):{} for i in range(1, 13)}"
   ]
  },
  {
   "cell_type": "markdown",
   "id": "8d14ffbe",
   "metadata": {},
   "source": [
    "#### Task 01\n",
    "##### Počet hráčů celkem\n",
    "---\n",
    "\n",
    "```\n",
    "task_01: {n_players: n}\n",
    "```\n",
    "---\n",
    "1 bod"
   ]
  },
  {
   "cell_type": "code",
   "execution_count": 40,
   "id": "9b58536b",
   "metadata": {},
   "outputs": [],
   "source": [
    "# Task 01\n",
    "\n",
    "tasks['task_01'] = {'n_players': 88888888} # 88888888 je číslo, které vám vyšlo..."
   ]
  },
  {
   "cell_type": "code",
   "execution_count": 41,
   "id": "8022db38",
   "metadata": {},
   "outputs": [
    {
     "name": "stdout",
     "output_type": "stream",
     "text": [
      "{'task_01': {'n_players': 18268}}\n"
     ]
    }
   ],
   "source": [
    "import xml.etree.ElementTree as ET\n",
    "\n",
    "tree = ET.parse('football.xml')\n",
    "root = tree.getroot()\n",
    "\n",
    "total_players = 0\n",
    "\n",
    "for club in root.findall(\".//club\"):\n",
    "    players = club.findall(\"player\")\n",
    "    total_players += len(players)\n",
    "\n",
    "tasks = {}\n",
    "tasks['task_01'] = {'n_players': total_players}\n",
    "\n",
    "print(tasks)\n"
   ]
  },
  {
   "cell_type": "markdown",
   "id": "08d0966c",
   "metadata": {},
   "source": [
    "#### Task 02\n",
    "##### Počet klubů, které mají ve svém názvu \"United\" (case-sensitive)\n",
    "---\n",
    "\n",
    "```\n",
    "task_02: {n_clubs_united: n}\n",
    "```\n",
    "---\n",
    "2 body"
   ]
  },
  {
   "cell_type": "code",
   "execution_count": 42,
   "id": "a7735e9e",
   "metadata": {},
   "outputs": [],
   "source": [
    "# Task 02\n",
    "tasks['task_02'] = {'n_clubs_united': 88888888} # 88888888 je číslo, které vám vyšlo..."
   ]
  },
  {
   "cell_type": "code",
   "execution_count": 43,
   "id": "1aca306e",
   "metadata": {},
   "outputs": [
    {
     "name": "stdout",
     "output_type": "stream",
     "text": [
      "{'task_01': {'n_players': 18268}, 'task_02': {'n_clubs_united': 24}}\n"
     ]
    }
   ],
   "source": [
    "import xml.etree.ElementTree as ET\n",
    "\n",
    "tree = ET.parse('football.xml')\n",
    "root = tree.getroot()\n",
    "\n",
    "united_clubs_count = 0\n",
    "\n",
    "for club in root.findall(\".//club\"):\n",
    "    club_name = club.get(\"name\")\n",
    "    if \"United\" in club_name:\n",
    "        united_clubs_count += 1\n",
    "\n",
    "tasks['task_02'] = {'n_clubs_united': united_clubs_count}\n",
    "\n",
    "print(tasks)"
   ]
  },
  {
   "cell_type": "markdown",
   "id": "6eeae8fa",
   "metadata": {},
   "source": [
    "#### Task 03\n",
    "##### Počet lig (v každé úrovni)\n",
    "---\n",
    "\n",
    "```\n",
    "task_03: {n_leagues: {level_1: n1, \n",
    "                      level_2: n2, \n",
    "                      level_3: n3, \n",
    "                      level_4: n4}}\n",
    "```\n",
    "---\n",
    "3 body"
   ]
  },
  {
   "cell_type": "code",
   "execution_count": 44,
   "id": "4f45b4df",
   "metadata": {},
   "outputs": [],
   "source": [
    "# Task 03\n",
    "tasks['task_03'] = {'n_leagues': {'level_1': 8888, 'level_2': 7777, 'level_3': 6666, 'level_4': 5555}}"
   ]
  },
  {
   "cell_type": "code",
   "execution_count": 45,
   "id": "30107187",
   "metadata": {},
   "outputs": [
    {
     "name": "stdout",
     "output_type": "stream",
     "text": [
      "{'task_01': {'n_players': 18268}, 'task_02': {'n_clubs_united': 24}, 'task_03': {'n_leagues': {'level_1': 40, 'level_2': 5, 'level_3': 2, 'level_4': 1}}}\n"
     ]
    }
   ],
   "source": [
    "import xml.etree.ElementTree as ET\n",
    "\n",
    "tree = ET.parse('football.xml')\n",
    "root = tree.getroot()\n",
    "\n",
    "league_levels = {\n",
    "    'level_1': 0,\n",
    "    'level_2': 0,\n",
    "    'level_3': 0,\n",
    "    'level_4': 0\n",
    "}\n",
    "\n",
    "for league in root.findall(\".//league\"):\n",
    "    level = league.get(\"level\")\n",
    "    if level == \"1\":\n",
    "        league_levels['level_1'] += 1\n",
    "    elif level == \"2\":\n",
    "        league_levels['level_2'] += 1\n",
    "    elif level == \"3\":\n",
    "        league_levels['level_3'] += 1\n",
    "    elif level == \"4\":\n",
    "        league_levels['level_4'] += 1\n",
    "\n",
    "tasks['task_03'] = {'n_leagues': league_levels}\n",
    "\n",
    "print(tasks)"
   ]
  },
  {
   "cell_type": "markdown",
   "id": "4e38cfd9",
   "metadata": {},
   "source": [
    "#### Task 04\n",
    "##### Počet českých hráčů\n",
    "---\n",
    "\n",
    "```\n",
    "task_04: {n_czech_players: n}\n",
    "```\n",
    "---\n",
    "2 body"
   ]
  },
  {
   "cell_type": "code",
   "execution_count": 46,
   "id": "97d9aa44",
   "metadata": {},
   "outputs": [
    {
     "name": "stdout",
     "output_type": "stream",
     "text": [
      "{'task_01': {'n_players': 18268}, 'task_02': {'n_clubs_united': 24}, 'task_03': {'n_leagues': {'level_1': 40, 'level_2': 5, 'level_3': 2, 'level_4': 1}}, 'task_04': {'n_czech_players': 102}}\n"
     ]
    }
   ],
   "source": [
    "# Task 04\n",
    "import xml.etree.ElementTree as ET\n",
    "\n",
    "tree = ET.parse('football.xml')\n",
    "root = tree.getroot()\n",
    "\n",
    "czech_players_count = 0\n",
    "\n",
    "for player in root.findall(\".//player\"):\n",
    "    nationality = player.get(\"nationality\")\n",
    "    if nationality == \"Czech Republic\":\n",
    "        czech_players_count += 1\n",
    "\n",
    "tasks['task_04'] = {'n_czech_players': czech_players_count}\n",
    "\n",
    "print(tasks)"
   ]
  },
  {
   "cell_type": "markdown",
   "id": "0e7f923b",
   "metadata": {},
   "source": [
    "#### Task 05\n",
    "##### Deset nejlepších českých hráčů (atribut \"overall\")\n",
    "---\n",
    "\n",
    "```\n",
    "task_05: {best_czech_players: [(\"Full Name 1\", overall_1), (\"Full Name 2\", overall_2), ...]}\n",
    "```\n",
    "---\n",
    "4 body"
   ]
  },
  {
   "cell_type": "code",
   "execution_count": 47,
   "id": "823702f2",
   "metadata": {},
   "outputs": [
    {
     "name": "stdout",
     "output_type": "stream",
     "text": [
      "{'task_01': {'n_players': 18268}, 'task_02': {'n_clubs_united': 24}, 'task_03': {'n_leagues': {'level_1': 40, 'level_2': 5, 'level_3': 2, 'level_4': 1}}, 'task_04': {'n_czech_players': 102}, 'task_05': {'best_czech_players': [('Tomáš Souček', 82), ('Tomáš Vaclík', 81), ('Vladimír Coufal', 80), ('Jiří Pavlenka', 80), ('Patrik Schick', 79), ('Ondřej Kolář', 78), ('Antonín Barák', 78), ('Pavel Kadeřábek', 78), ('Tomáš Holeš', 77), ('Lukas Provod', 77)]}}\n"
     ]
    }
   ],
   "source": [
    "# Task 05\n",
    "import xml.etree.ElementTree as ET\n",
    "\n",
    "tree = ET.parse('football.xml')\n",
    "root = tree.getroot()\n",
    "\n",
    "czech_players = []\n",
    "\n",
    "for player in root.findall(\".//player\"):\n",
    "    nationality = player.get(\"nationality\")\n",
    "    if nationality == \"Czech Republic\":\n",
    "        full_name = player.get(\"fullname\")\n",
    "        overall = int(player.get(\"overall\"))\n",
    "        czech_players.append((full_name, overall))\n",
    "\n",
    "czech_players_sorted = sorted(czech_players, key=lambda x: x[1], reverse=True)\n",
    "\n",
    "top_10_czech_players = czech_players_sorted[:10]\n",
    "\n",
    "tasks['task_05'] = {'best_czech_players': top_10_czech_players}\n",
    "\n",
    "print(tasks)\n"
   ]
  },
  {
   "cell_type": "markdown",
   "id": "c95677ad",
   "metadata": {},
   "source": [
    "#### Task 06\n",
    "##### Procento praváků mezi hráči (zaokrouhlit na 2 desetinná místa)\n",
    "---\n",
    "\n",
    "```\n",
    "task_06: {right_footed_ratio: 'XX.xx %'}\n",
    "```\n",
    "---\n",
    "3 body"
   ]
  },
  {
   "cell_type": "code",
   "execution_count": 48,
   "id": "0f9a78d3",
   "metadata": {},
   "outputs": [
    {
     "name": "stdout",
     "output_type": "stream",
     "text": [
      "{'task_01': {'n_players': 18268}, 'task_02': {'n_clubs_united': 24}, 'task_03': {'n_leagues': {'level_1': 40, 'level_2': 5, 'level_3': 2, 'level_4': 1}}, 'task_04': {'n_czech_players': 102}, 'task_05': {'best_czech_players': [('Tomáš Souček', 82), ('Tomáš Vaclík', 81), ('Vladimír Coufal', 80), ('Jiří Pavlenka', 80), ('Patrik Schick', 79), ('Ondřej Kolář', 78), ('Antonín Barák', 78), ('Pavel Kadeřábek', 78), ('Tomáš Holeš', 77), ('Lukas Provod', 77)]}, 'task_06': {'right_footed_ratio': '76.22 %'}}\n"
     ]
    }
   ],
   "source": [
    "# Task 06\n",
    "import xml.etree.ElementTree as ET\n",
    "\n",
    "tree = ET.parse('football.xml')\n",
    "root = tree.getroot()\n",
    "\n",
    "total_players = 0\n",
    "right_footed_players = 0\n",
    "\n",
    "for player in root.findall(\".//player\"):\n",
    "    total_players += 1\n",
    "    if player.get(\"preferredfoot\") == \"Right\":\n",
    "        right_footed_players += 1\n",
    "\n",
    "if total_players > 0:\n",
    "    right_footed_ratio = (right_footed_players / total_players) * 100\n",
    "    right_footed_ratio = round(right_footed_ratio, 2)  # Zaokrouhlení na 2 desetinná místa\n",
    "else:\n",
    "    right_footed_ratio = 0\n",
    "\n",
    "tasks['task_06'] = {'right_footed_ratio': f'{right_footed_ratio} %'}\n",
    "\n",
    "print(tasks)\n"
   ]
  },
  {
   "cell_type": "markdown",
   "id": "4ee6701a",
   "metadata": {},
   "source": [
    "#### Task 07\n",
    "##### Seznam hráčů v \"English Premier League (1)\" s číslem dresu (clubnumber) 10, jejich průměrná hodnota a průměrný plat (obojí v Eurech). Seznam hráčů seřaďte podle jejich hodnoty.\n",
    "---\n",
    "\n",
    "```\n",
    "task_07: {premier_league_playmakers: {list: [{full_name: \"Full Name 1\", \n",
    "                                              club: \"Club Name 1\",\n",
    "                                              value: first_max_value_1,\n",
    "                                              wage: wage_1},\n",
    "                                              {full_name: \"Full Name 2\", \n",
    "                                              club: \"Club Name 2\",\n",
    "                                              value: second_max_value_2,\n",
    "                                              wage: wage_2}, ...],\n",
    "                                       mean_value: X,\n",
    "                                       mean_wage: Y}\n",
    "```\n",
    "---\n",
    "7 bodů"
   ]
  },
  {
   "cell_type": "code",
   "execution_count": 49,
   "id": "65b3298e",
   "metadata": {},
   "outputs": [
    {
     "name": "stdout",
     "output_type": "stream",
     "text": [
      "{'task_01': {'n_players': 18268}, 'task_02': {'n_clubs_united': 24}, 'task_03': {'n_leagues': {'level_1': 40, 'level_2': 5, 'level_3': 2, 'level_4': 1}}, 'task_04': {'n_czech_players': 102}, 'task_05': {'best_czech_players': [('Tomáš Souček', 82), ('Tomáš Vaclík', 81), ('Vladimír Coufal', 80), ('Jiří Pavlenka', 80), ('Patrik Schick', 79), ('Ondřej Kolář', 78), ('Antonín Barák', 78), ('Pavel Kadeřábek', 78), ('Tomáš Holeš', 77), ('Lukas Provod', 77)]}, 'task_06': {'right_footed_ratio': '76.22 %'}, 'task_07': {'premier_league_playmakers': {'list': [{'full_name': 'Harry Kane', 'club': 'Tottenham Hotspur', 'value': 129500000, 'wage': 240000}, {'full_name': 'Sadio Mané', 'club': 'Liverpool', 'value': 101000000, 'wage': 270000}, {'full_name': 'Marcus Rashford', 'club': 'Manchester United', 'value': 77500000, 'wage': 150000}, {'full_name': 'Jack Grealish', 'club': 'Manchester City', 'value': 50500000, 'wage': 180000}, {'full_name': 'Christian Pulisic', 'club': 'Chelsea', 'value': 49000000, 'wage': 120000}, {'full_name': 'Raphael Dias Belloli', 'club': 'Leeds United', 'value': 46000000, 'wage': 89000}, {'full_name': 'James Maddison', 'club': 'Leicester City', 'value': 41500000, 'wage': 100000}, {'full_name': 'Emiliano Buendía', 'club': 'Aston Villa', 'value': 26500000, 'wage': 61000}, {'full_name': 'Allan Saint-Maximin', 'club': 'Newcastle United', 'value': 26500000, 'wage': 41000}, {'full_name': 'Daniel Castelo Podence', 'club': 'Wolverhampton Wanderers', 'value': 18500000, 'wage': 79000}, {'full_name': 'Emile Smith Rowe', 'club': 'Arsenal', 'value': 16500000, 'wage': 49000}, {'full_name': 'Eberechi Eze', 'club': 'Crystal Palace', 'value': 16500000, 'wage': 45000}, {'full_name': 'Gylfi Sigurðsson', 'club': 'Everton', 'value': 14500000, 'wage': 83000}, {'full_name': 'Alexis Mac Allister', 'club': 'Brighton & Hove Albion', 'value': 11500000, 'wage': 42000}, {'full_name': 'Alexis Mac Allister', 'club': 'Brighton & Hove Albion', 'value': 11500000, 'wage': 42000}, {'full_name': 'Ché Adams', 'club': 'Southampton', 'value': 11500000, 'wage': 46000}, {'full_name': 'Manuel Lanzini', 'club': 'West Ham United', 'value': 10500000, 'wage': 64000}, {'full_name': 'Josh Dasilva', 'club': 'Brentford', 'value': 7000000, 'wage': 31000}, {'full_name': 'João Pedro Junqueira de Jesus', 'club': 'Watford', 'value': 4500000, 'wage': 20000}, {'full_name': 'Kieran Dowell', 'club': 'Norwich City', 'value': 2800000, 'wage': 19000}], 'mean_value': 33665000.0, 'mean_wage': 88550.0}}}\n"
     ]
    }
   ],
   "source": [
    "# Task 07\n",
    "import xml.etree.ElementTree as ET\n",
    "\n",
    "tree = ET.parse('football.xml')\n",
    "root = tree.getroot()\n",
    "\n",
    "players = []\n",
    "total_value = 0\n",
    "total_wage = 0\n",
    "player_count = 0\n",
    "\n",
    "for club in root.findall(\".//league[@name='English Premier League (1)']/club\"):\n",
    "    for player in club.findall(\"player\"):\n",
    "        club_number = player.get(\"clubnumber\")\n",
    "        if club_number == \"10\":  \n",
    "            full_name = player.get(\"fullname\")\n",
    "            club_name = club.get(\"name\")\n",
    "            value = int(player.get(\"valueeur\"))\n",
    "            wage = int(player.get(\"wageeur\"))\n",
    "            \n",
    "            players.append({\n",
    "                \"full_name\": full_name,\n",
    "                \"club\": club_name,\n",
    "                \"value\": value,\n",
    "                \"wage\": wage\n",
    "            })\n",
    "            \n",
    "        \n",
    "            total_value += value\n",
    "            total_wage += wage\n",
    "            player_count += 1\n",
    "\n",
    "players_sorted = sorted(players, key=lambda x: x[\"value\"], reverse=True)\n",
    "\n",
    "mean_value = round(total_value / player_count, 2) if player_count > 0 else 0\n",
    "mean_wage = round(total_wage / player_count, 2) if player_count > 0 else 0\n",
    "\n",
    "tasks['task_07'] = {\n",
    "    'premier_league_playmakers': {\n",
    "        'list': players_sorted,\n",
    "        'mean_value': mean_value,\n",
    "        'mean_wage': mean_wage\n",
    "    }\n",
    "}\n",
    "\n",
    "print(tasks)"
   ]
  },
  {
   "cell_type": "markdown",
   "id": "96ef2b59",
   "metadata": {},
   "source": [
    "#### Task 08\n",
    "##### Nejpřesnější hlavičkář z hráčů Plzně, Slavie a Sparty (atribut headingaccuracy), liga \"Czech Republic Gambrinus Liga (1)\"\n",
    "---\n",
    "\n",
    "```\n",
    "task_08: {acc_header_gambrinus_league: \"Full Name\"}\n",
    "```\n",
    "---\n",
    "2 body"
   ]
  },
  {
   "cell_type": "code",
   "execution_count": 50,
   "id": "203684e7",
   "metadata": {},
   "outputs": [
    {
     "name": "stdout",
     "output_type": "stream",
     "text": [
      "{'task_01': {'n_players': 18268}, 'task_02': {'n_clubs_united': 24}, 'task_03': {'n_leagues': {'level_1': 40, 'level_2': 5, 'level_3': 2, 'level_4': 1}}, 'task_04': {'n_czech_players': 102}, 'task_05': {'best_czech_players': [('Tomáš Souček', 82), ('Tomáš Vaclík', 81), ('Vladimír Coufal', 80), ('Jiří Pavlenka', 80), ('Patrik Schick', 79), ('Ondřej Kolář', 78), ('Antonín Barák', 78), ('Pavel Kadeřábek', 78), ('Tomáš Holeš', 77), ('Lukas Provod', 77)]}, 'task_06': {'right_footed_ratio': '76.22 %'}, 'task_07': {'premier_league_playmakers': {'list': [{'full_name': 'Harry Kane', 'club': 'Tottenham Hotspur', 'value': 129500000, 'wage': 240000}, {'full_name': 'Sadio Mané', 'club': 'Liverpool', 'value': 101000000, 'wage': 270000}, {'full_name': 'Marcus Rashford', 'club': 'Manchester United', 'value': 77500000, 'wage': 150000}, {'full_name': 'Jack Grealish', 'club': 'Manchester City', 'value': 50500000, 'wage': 180000}, {'full_name': 'Christian Pulisic', 'club': 'Chelsea', 'value': 49000000, 'wage': 120000}, {'full_name': 'Raphael Dias Belloli', 'club': 'Leeds United', 'value': 46000000, 'wage': 89000}, {'full_name': 'James Maddison', 'club': 'Leicester City', 'value': 41500000, 'wage': 100000}, {'full_name': 'Emiliano Buendía', 'club': 'Aston Villa', 'value': 26500000, 'wage': 61000}, {'full_name': 'Allan Saint-Maximin', 'club': 'Newcastle United', 'value': 26500000, 'wage': 41000}, {'full_name': 'Daniel Castelo Podence', 'club': 'Wolverhampton Wanderers', 'value': 18500000, 'wage': 79000}, {'full_name': 'Emile Smith Rowe', 'club': 'Arsenal', 'value': 16500000, 'wage': 49000}, {'full_name': 'Eberechi Eze', 'club': 'Crystal Palace', 'value': 16500000, 'wage': 45000}, {'full_name': 'Gylfi Sigurðsson', 'club': 'Everton', 'value': 14500000, 'wage': 83000}, {'full_name': 'Alexis Mac Allister', 'club': 'Brighton & Hove Albion', 'value': 11500000, 'wage': 42000}, {'full_name': 'Alexis Mac Allister', 'club': 'Brighton & Hove Albion', 'value': 11500000, 'wage': 42000}, {'full_name': 'Ché Adams', 'club': 'Southampton', 'value': 11500000, 'wage': 46000}, {'full_name': 'Manuel Lanzini', 'club': 'West Ham United', 'value': 10500000, 'wage': 64000}, {'full_name': 'Josh Dasilva', 'club': 'Brentford', 'value': 7000000, 'wage': 31000}, {'full_name': 'João Pedro Junqueira de Jesus', 'club': 'Watford', 'value': 4500000, 'wage': 20000}, {'full_name': 'Kieran Dowell', 'club': 'Norwich City', 'value': 2800000, 'wage': 19000}], 'mean_value': 33665000.0, 'mean_wage': 88550.0}}, 'task_08': {'acc_header_gambrinus_league': 'Tomáš Chorý'}}\n"
     ]
    }
   ],
   "source": [
    "# Task 08\n",
    "import xml.etree.ElementTree as ET\n",
    "\n",
    "tree = ET.parse('football.xml')\n",
    "root = tree.getroot()\n",
    "\n",
    "best_header_accuracy = -1  \n",
    "best_player_name = None  \n",
    "\n",
    "clubs_of_interest = [\"Viktoria Plzeň\", \"SK Slavia Praha\", \"AC Sparta Praha\"]\n",
    "\n",
    "for club in root.findall(\".//league[@name='Czech Republic Gambrinus Liga (1)']/club\"):\n",
    "    club_name = club.get(\"name\")\n",
    "    if club_name in clubs_of_interest:  \n",
    "        for player in club.findall(\"player\"):\n",
    "            heading_accuracy = int(player.get(\"headingaccuracy\"))  \n",
    "            full_name = player.get(\"fullname\")  \n",
    "            \n",
    "            if heading_accuracy > best_header_accuracy:\n",
    "                best_header_accuracy = heading_accuracy\n",
    "                best_player_name = full_name\n",
    "\n",
    "tasks['task_08'] = {'acc_header_gambrinus_league': best_player_name}\n",
    "\n",
    "print(tasks)\n"
   ]
  },
  {
   "cell_type": "markdown",
   "id": "bda7322e",
   "metadata": {},
   "source": [
    "#### Task 09\n",
    "##### Žebříček 20 nejlepších hráčů světa (dle atributu overall)\n",
    "---\n",
    "\n",
    "```\n",
    "task_09: {best_20: [{fullname: '',\n",
    "                     nationality: '',\n",
    "                     club: '',\n",
    "                     overall: '',\n",
    "                     potential: '',\n",
    "                     value: '',\n",
    "                     wage: '',\n",
    "                     age: '',\n",
    "                     height: '',\n",
    "                     weight: ''\n",
    "                     }, ...]}\n",
    "```\n",
    "---\n",
    "3 body"
   ]
  },
  {
   "cell_type": "code",
   "execution_count": 51,
   "id": "c39a0d53",
   "metadata": {},
   "outputs": [
    {
     "name": "stdout",
     "output_type": "stream",
     "text": [
      "{'task_01': {'n_players': 18268}, 'task_02': {'n_clubs_united': 24}, 'task_03': {'n_leagues': {'level_1': 40, 'level_2': 5, 'level_3': 2, 'level_4': 1}}, 'task_04': {'n_czech_players': 102}, 'task_05': {'best_czech_players': [('Tomáš Souček', 82), ('Tomáš Vaclík', 81), ('Vladimír Coufal', 80), ('Jiří Pavlenka', 80), ('Patrik Schick', 79), ('Ondřej Kolář', 78), ('Antonín Barák', 78), ('Pavel Kadeřábek', 78), ('Tomáš Holeš', 77), ('Lukas Provod', 77)]}, 'task_06': {'right_footed_ratio': '76.22 %'}, 'task_07': {'premier_league_playmakers': {'list': [{'full_name': 'Harry Kane', 'club': 'Tottenham Hotspur', 'value': 129500000, 'wage': 240000}, {'full_name': 'Sadio Mané', 'club': 'Liverpool', 'value': 101000000, 'wage': 270000}, {'full_name': 'Marcus Rashford', 'club': 'Manchester United', 'value': 77500000, 'wage': 150000}, {'full_name': 'Jack Grealish', 'club': 'Manchester City', 'value': 50500000, 'wage': 180000}, {'full_name': 'Christian Pulisic', 'club': 'Chelsea', 'value': 49000000, 'wage': 120000}, {'full_name': 'Raphael Dias Belloli', 'club': 'Leeds United', 'value': 46000000, 'wage': 89000}, {'full_name': 'James Maddison', 'club': 'Leicester City', 'value': 41500000, 'wage': 100000}, {'full_name': 'Emiliano Buendía', 'club': 'Aston Villa', 'value': 26500000, 'wage': 61000}, {'full_name': 'Allan Saint-Maximin', 'club': 'Newcastle United', 'value': 26500000, 'wage': 41000}, {'full_name': 'Daniel Castelo Podence', 'club': 'Wolverhampton Wanderers', 'value': 18500000, 'wage': 79000}, {'full_name': 'Emile Smith Rowe', 'club': 'Arsenal', 'value': 16500000, 'wage': 49000}, {'full_name': 'Eberechi Eze', 'club': 'Crystal Palace', 'value': 16500000, 'wage': 45000}, {'full_name': 'Gylfi Sigurðsson', 'club': 'Everton', 'value': 14500000, 'wage': 83000}, {'full_name': 'Alexis Mac Allister', 'club': 'Brighton & Hove Albion', 'value': 11500000, 'wage': 42000}, {'full_name': 'Alexis Mac Allister', 'club': 'Brighton & Hove Albion', 'value': 11500000, 'wage': 42000}, {'full_name': 'Ché Adams', 'club': 'Southampton', 'value': 11500000, 'wage': 46000}, {'full_name': 'Manuel Lanzini', 'club': 'West Ham United', 'value': 10500000, 'wage': 64000}, {'full_name': 'Josh Dasilva', 'club': 'Brentford', 'value': 7000000, 'wage': 31000}, {'full_name': 'João Pedro Junqueira de Jesus', 'club': 'Watford', 'value': 4500000, 'wage': 20000}, {'full_name': 'Kieran Dowell', 'club': 'Norwich City', 'value': 2800000, 'wage': 19000}], 'mean_value': 33665000.0, 'mean_wage': 88550.0}}, 'task_08': {'acc_header_gambrinus_league': 'Tomáš Chorý'}, 'task_09': {'best_20': [{'fullname': 'Lionel Messi', 'nationality': 'Argentina', 'club': 'Paris Saint-Germain', 'overall': 93, 'potential': 93, 'value': 78000000, 'wage': 320000, 'age': 34, 'height': 170, 'weight': 72}, {'fullname': 'Robert Lewandowski', 'nationality': 'Poland', 'club': 'FC Bayern München', 'overall': 92, 'potential': 92, 'value': 119500000, 'wage': 270000, 'age': 32, 'height': 185, 'weight': 81}, {'fullname': 'Kevin De Bruyne', 'nationality': 'Belgium', 'club': 'Manchester City', 'overall': 91, 'potential': 91, 'value': 125500000, 'wage': 350000, 'age': 30, 'height': 181, 'weight': 70}, {'fullname': 'C. Ronaldo dos Santos Aveiro', 'nationality': 'Portugal', 'club': 'Manchester United', 'overall': 91, 'potential': 91, 'value': 45000000, 'wage': 270000, 'age': 36, 'height': 187, 'weight': 83}, {'fullname': 'Jan Oblak', 'nationality': 'Slovenia', 'club': 'Atlético Madrid', 'overall': 91, 'potential': 93, 'value': 112000000, 'wage': 130000, 'age': 28, 'height': 188, 'weight': 87}, {'fullname': 'Kylian Mbappé', 'nationality': 'France', 'club': 'Paris Saint-Germain', 'overall': 91, 'potential': 95, 'value': 194000000, 'wage': 230000, 'age': 22, 'height': 182, 'weight': 73}, {'fullname': 'Neymar da Silva Santos Jr.', 'nationality': 'Brazil', 'club': 'Paris Saint-Germain', 'overall': 91, 'potential': 91, 'value': 129000000, 'wage': 270000, 'age': 29, 'height': 175, 'weight': 68}, {'fullname': \"N'Golo Kanté\", 'nationality': 'France', 'club': 'Chelsea', 'overall': 90, 'potential': 90, 'value': 100000000, 'wage': 230000, 'age': 30, 'height': 168, 'weight': 70}, {'fullname': 'Harry Kane', 'nationality': 'England', 'club': 'Tottenham Hotspur', 'overall': 90, 'potential': 90, 'value': 129500000, 'wage': 240000, 'age': 27, 'height': 188, 'weight': 89}, {'fullname': 'Marc-André ter Stegen', 'nationality': 'Germany', 'club': 'FC Barcelona', 'overall': 90, 'potential': 92, 'value': 99000000, 'wage': 250000, 'age': 29, 'height': 187, 'weight': 85}, {'fullname': 'Manuel Neuer', 'nationality': 'Germany', 'club': 'FC Bayern München', 'overall': 90, 'potential': 90, 'value': 13500000, 'wage': 86000, 'age': 35, 'height': 193, 'weight': 93}, {'fullname': 'Virgil van Dijk', 'nationality': 'Netherlands', 'club': 'Liverpool', 'overall': 89, 'potential': 89, 'value': 86000000, 'wage': 230000, 'age': 29, 'height': 193, 'weight': 92}, {'fullname': 'Sadio Mané', 'nationality': 'Senegal', 'club': 'Liverpool', 'overall': 89, 'potential': 89, 'value': 101000000, 'wage': 270000, 'age': 29, 'height': 175, 'weight': 69}, {'fullname': 'Alisson Ramses Becker', 'nationality': 'Brazil', 'club': 'Liverpool', 'overall': 89, 'potential': 90, 'value': 82000000, 'wage': 190000, 'age': 28, 'height': 191, 'weight': 91}, {'fullname': 'Mohamed Salah', 'nationality': 'Egypt', 'club': 'Liverpool', 'overall': 89, 'potential': 89, 'value': 101000000, 'wage': 270000, 'age': 29, 'height': 175, 'weight': 71}, {'fullname': 'Ederson Santana de Moraes', 'nationality': 'Brazil', 'club': 'Manchester City', 'overall': 89, 'potential': 91, 'value': 94000000, 'wage': 200000, 'age': 27, 'height': 188, 'weight': 86}, {'fullname': 'Heung Min Son', 'nationality': 'Korea Republic', 'club': 'Tottenham Hotspur', 'overall': 89, 'potential': 89, 'value': 104000000, 'wage': 220000, 'age': 28, 'height': 183, 'weight': 78}, {'fullname': 'Karim Benzema', 'nationality': 'France', 'club': 'Real Madrid', 'overall': 89, 'potential': 89, 'value': 66000000, 'wage': 350000, 'age': 33, 'height': 185, 'weight': 81}, {'fullname': 'Thibaut Courtois', 'nationality': 'Belgium', 'club': 'Real Madrid', 'overall': 89, 'potential': 91, 'value': 85500000, 'wage': 250000, 'age': 29, 'height': 199, 'weight': 96}, {'fullname': 'Carlos Henrique Venancio Casimiro', 'nationality': 'Brazil', 'club': 'Real Madrid', 'overall': 89, 'potential': 89, 'value': 88000000, 'wage': 310000, 'age': 29, 'height': 185, 'weight': 84}]}}\n"
     ]
    }
   ],
   "source": [
    "# Task 09\n",
    "import xml.etree.ElementTree as ET\n",
    "\n",
    "tree = ET.parse('football.xml')\n",
    "root = tree.getroot()\n",
    "\n",
    "players = []\n",
    "\n",
    "for player in root.findall(\".//player\"):\n",
    "    full_name = player.get(\"fullname\")\n",
    "    nationality = player.get(\"nationality\")\n",
    "    club = player.get(\"club\")\n",
    "    overall = int(player.get(\"overall\"))\n",
    "    potential = int(player.get(\"potential\"))\n",
    "    value = int(player.get(\"valueeur\"))\n",
    "    wage = int(player.get(\"wageeur\"))\n",
    "    age = int(player.get(\"age\"))\n",
    "    height = int(player.get(\"height\"))\n",
    "    weight = int(player.get(\"weight\"))\n",
    "    \n",
    "    players.append({\n",
    "        'fullname': full_name,\n",
    "        'nationality': nationality,\n",
    "        'club': club,\n",
    "        'overall': overall,\n",
    "        'potential': potential,\n",
    "        'value': value,\n",
    "        'wage': wage,\n",
    "        'age': age,\n",
    "        'height': height,\n",
    "        'weight': weight\n",
    "    })\n",
    "\n",
    "players_sorted = sorted(players, key=lambda x: x['overall'], reverse=True)\n",
    "\n",
    "best_20 = players_sorted[:20]\n",
    "\n",
    "tasks['task_09'] = {'best_20': best_20}\n",
    "\n",
    "print(tasks)\n"
   ]
  },
  {
   "cell_type": "markdown",
   "id": "fc44fef3",
   "metadata": {},
   "source": [
    "#### Task 10\n",
    "##### Seřazení všech lig podle průměrného věku všech hráčů (od nejmladší)\n",
    "---\n",
    "\n",
    "```\n",
    "task_10: {mean_league_age: [(league_1_name, mean_age_1), (league_2_name, mean_age_2), ...]}\n",
    "```\n",
    "---\n",
    "5 body"
   ]
  },
  {
   "cell_type": "code",
   "execution_count": 52,
   "id": "2d1fbbe6",
   "metadata": {},
   "outputs": [
    {
     "name": "stdout",
     "output_type": "stream",
     "text": [
      "{'task_01': {'n_players': 18268}, 'task_02': {'n_clubs_united': 24}, 'task_03': {'n_leagues': {'level_1': 40, 'level_2': 5, 'level_3': 2, 'level_4': 1}}, 'task_04': {'n_czech_players': 102}, 'task_05': {'best_czech_players': [('Tomáš Souček', 82), ('Tomáš Vaclík', 81), ('Vladimír Coufal', 80), ('Jiří Pavlenka', 80), ('Patrik Schick', 79), ('Ondřej Kolář', 78), ('Antonín Barák', 78), ('Pavel Kadeřábek', 78), ('Tomáš Holeš', 77), ('Lukas Provod', 77)]}, 'task_06': {'right_footed_ratio': '76.22 %'}, 'task_07': {'premier_league_playmakers': {'list': [{'full_name': 'Harry Kane', 'club': 'Tottenham Hotspur', 'value': 129500000, 'wage': 240000}, {'full_name': 'Sadio Mané', 'club': 'Liverpool', 'value': 101000000, 'wage': 270000}, {'full_name': 'Marcus Rashford', 'club': 'Manchester United', 'value': 77500000, 'wage': 150000}, {'full_name': 'Jack Grealish', 'club': 'Manchester City', 'value': 50500000, 'wage': 180000}, {'full_name': 'Christian Pulisic', 'club': 'Chelsea', 'value': 49000000, 'wage': 120000}, {'full_name': 'Raphael Dias Belloli', 'club': 'Leeds United', 'value': 46000000, 'wage': 89000}, {'full_name': 'James Maddison', 'club': 'Leicester City', 'value': 41500000, 'wage': 100000}, {'full_name': 'Emiliano Buendía', 'club': 'Aston Villa', 'value': 26500000, 'wage': 61000}, {'full_name': 'Allan Saint-Maximin', 'club': 'Newcastle United', 'value': 26500000, 'wage': 41000}, {'full_name': 'Daniel Castelo Podence', 'club': 'Wolverhampton Wanderers', 'value': 18500000, 'wage': 79000}, {'full_name': 'Emile Smith Rowe', 'club': 'Arsenal', 'value': 16500000, 'wage': 49000}, {'full_name': 'Eberechi Eze', 'club': 'Crystal Palace', 'value': 16500000, 'wage': 45000}, {'full_name': 'Gylfi Sigurðsson', 'club': 'Everton', 'value': 14500000, 'wage': 83000}, {'full_name': 'Alexis Mac Allister', 'club': 'Brighton & Hove Albion', 'value': 11500000, 'wage': 42000}, {'full_name': 'Alexis Mac Allister', 'club': 'Brighton & Hove Albion', 'value': 11500000, 'wage': 42000}, {'full_name': 'Ché Adams', 'club': 'Southampton', 'value': 11500000, 'wage': 46000}, {'full_name': 'Manuel Lanzini', 'club': 'West Ham United', 'value': 10500000, 'wage': 64000}, {'full_name': 'Josh Dasilva', 'club': 'Brentford', 'value': 7000000, 'wage': 31000}, {'full_name': 'João Pedro Junqueira de Jesus', 'club': 'Watford', 'value': 4500000, 'wage': 20000}, {'full_name': 'Kieran Dowell', 'club': 'Norwich City', 'value': 2800000, 'wage': 19000}], 'mean_value': 33665000.0, 'mean_wage': 88550.0}}, 'task_08': {'acc_header_gambrinus_league': 'Tomáš Chorý'}, 'task_09': {'best_20': [{'fullname': 'Lionel Messi', 'nationality': 'Argentina', 'club': 'Paris Saint-Germain', 'overall': 93, 'potential': 93, 'value': 78000000, 'wage': 320000, 'age': 34, 'height': 170, 'weight': 72}, {'fullname': 'Robert Lewandowski', 'nationality': 'Poland', 'club': 'FC Bayern München', 'overall': 92, 'potential': 92, 'value': 119500000, 'wage': 270000, 'age': 32, 'height': 185, 'weight': 81}, {'fullname': 'Kevin De Bruyne', 'nationality': 'Belgium', 'club': 'Manchester City', 'overall': 91, 'potential': 91, 'value': 125500000, 'wage': 350000, 'age': 30, 'height': 181, 'weight': 70}, {'fullname': 'C. Ronaldo dos Santos Aveiro', 'nationality': 'Portugal', 'club': 'Manchester United', 'overall': 91, 'potential': 91, 'value': 45000000, 'wage': 270000, 'age': 36, 'height': 187, 'weight': 83}, {'fullname': 'Jan Oblak', 'nationality': 'Slovenia', 'club': 'Atlético Madrid', 'overall': 91, 'potential': 93, 'value': 112000000, 'wage': 130000, 'age': 28, 'height': 188, 'weight': 87}, {'fullname': 'Kylian Mbappé', 'nationality': 'France', 'club': 'Paris Saint-Germain', 'overall': 91, 'potential': 95, 'value': 194000000, 'wage': 230000, 'age': 22, 'height': 182, 'weight': 73}, {'fullname': 'Neymar da Silva Santos Jr.', 'nationality': 'Brazil', 'club': 'Paris Saint-Germain', 'overall': 91, 'potential': 91, 'value': 129000000, 'wage': 270000, 'age': 29, 'height': 175, 'weight': 68}, {'fullname': \"N'Golo Kanté\", 'nationality': 'France', 'club': 'Chelsea', 'overall': 90, 'potential': 90, 'value': 100000000, 'wage': 230000, 'age': 30, 'height': 168, 'weight': 70}, {'fullname': 'Harry Kane', 'nationality': 'England', 'club': 'Tottenham Hotspur', 'overall': 90, 'potential': 90, 'value': 129500000, 'wage': 240000, 'age': 27, 'height': 188, 'weight': 89}, {'fullname': 'Marc-André ter Stegen', 'nationality': 'Germany', 'club': 'FC Barcelona', 'overall': 90, 'potential': 92, 'value': 99000000, 'wage': 250000, 'age': 29, 'height': 187, 'weight': 85}, {'fullname': 'Manuel Neuer', 'nationality': 'Germany', 'club': 'FC Bayern München', 'overall': 90, 'potential': 90, 'value': 13500000, 'wage': 86000, 'age': 35, 'height': 193, 'weight': 93}, {'fullname': 'Virgil van Dijk', 'nationality': 'Netherlands', 'club': 'Liverpool', 'overall': 89, 'potential': 89, 'value': 86000000, 'wage': 230000, 'age': 29, 'height': 193, 'weight': 92}, {'fullname': 'Sadio Mané', 'nationality': 'Senegal', 'club': 'Liverpool', 'overall': 89, 'potential': 89, 'value': 101000000, 'wage': 270000, 'age': 29, 'height': 175, 'weight': 69}, {'fullname': 'Alisson Ramses Becker', 'nationality': 'Brazil', 'club': 'Liverpool', 'overall': 89, 'potential': 90, 'value': 82000000, 'wage': 190000, 'age': 28, 'height': 191, 'weight': 91}, {'fullname': 'Mohamed Salah', 'nationality': 'Egypt', 'club': 'Liverpool', 'overall': 89, 'potential': 89, 'value': 101000000, 'wage': 270000, 'age': 29, 'height': 175, 'weight': 71}, {'fullname': 'Ederson Santana de Moraes', 'nationality': 'Brazil', 'club': 'Manchester City', 'overall': 89, 'potential': 91, 'value': 94000000, 'wage': 200000, 'age': 27, 'height': 188, 'weight': 86}, {'fullname': 'Heung Min Son', 'nationality': 'Korea Republic', 'club': 'Tottenham Hotspur', 'overall': 89, 'potential': 89, 'value': 104000000, 'wage': 220000, 'age': 28, 'height': 183, 'weight': 78}, {'fullname': 'Karim Benzema', 'nationality': 'France', 'club': 'Real Madrid', 'overall': 89, 'potential': 89, 'value': 66000000, 'wage': 350000, 'age': 33, 'height': 185, 'weight': 81}, {'fullname': 'Thibaut Courtois', 'nationality': 'Belgium', 'club': 'Real Madrid', 'overall': 89, 'potential': 91, 'value': 85500000, 'wage': 250000, 'age': 29, 'height': 199, 'weight': 96}, {'fullname': 'Carlos Henrique Venancio Casimiro', 'nationality': 'Brazil', 'club': 'Real Madrid', 'overall': 89, 'potential': 89, 'value': 88000000, 'wage': 310000, 'age': 29, 'height': 185, 'weight': 84}]}, 'task_10': {'mean_league_age': [('Holland Eredivisie (1)', 23.375510204081632), ('Danish Superliga (1)', 23.5251572327044), ('Austrian Football Bundesliga (1)', 23.796969696969697), ('Rep. Ireland Airtricity League (1)', 23.996124031007753), ('Belgian Jupiler Pro League (1)', 24.01443298969072), ('Swiss Super League (1)', 24.21323529411765), ('German 3. Bundesliga (3)', 24.25092250922509), ('French Ligue 1 (1)', 24.29059829059829), ('Croatian Prva HNL (1)', 24.381818181818183), ('German 1. Bundesliga (1)', 24.391696750902526), ('English League Championship (2)', 24.4187675070028), ('English Premier League (1)', 24.438650306748468), ('English League One (3)', 24.509584664536742), ('French Ligue 2 (2)', 24.525519848771268), ('Norwegian Eliteserien (1)', 24.571072319201996), ('Portuguese Liga ZON SAGRES (1)', 24.64566929133858), ('Russian Premier League (1)', 24.654761904761905), ('English League Two (4)', 24.6984375), ('UAE Arabian Gulf League (1)', 24.75), ('Australian Hyundai A-League (1)', 24.768953068592058), ('Ukrainian Premier League (1)', 24.82456140350877), ('German 2. Bundesliga (2)', 24.974509803921567), ('Polish T-Mobile Ekstraklasa (1)', 25.018145161290324), ('Indian Super League (1)', 25.238095238095237), ('Swedish Allsvenskan (1)', 25.325699745547073), ('Scottish Premiership (1)', 25.363636363636363), ('USA Major League Soccer (1)', 25.365409622886865), ('Spanish Segunda División (2)', 25.383584589614742), ('Spain Primera Division (1)', 25.462382445141067), ('Finnish Veikkausliiga (1)', 25.6), ('Hungarian Nemzeti Bajnokság I (1)', 25.655172413793103), ('Romanian Liga I (1)', 25.692307692307693), ('Italian Serie A (1)', 25.78125), ('Czech Republic Gambrinus Liga (1)', 25.814814814814813), ('Argentina Primera División \\xa0(1)', 25.858321870701513), ('Mexican Liga MX (1)', 25.86652977412731), ('Copa Latina (Copa Libertadores de América)', 25.935018050541515), ('Cypriot First Division (1)', 26.0), ('Campeonato Brasileiro Série A (1)', 26.078125), ('Greek Super League (1)', 26.234234234234233), ('Saudi Abdul L. Jameel League (1)', 26.27038626609442), ('Italian Serie B (2)', 26.303571428571427), ('Japanese J. League Division 1 (1)', 26.56122448979592), ('Turkish Süper Lig (1)', 26.75551470588235), ('Korean K League 1 (1)', 27.065671641791045), ('Chinese Super League (1)', 27.245495495495497), ('South African Premier Division (1)', 27.75), ('Venezuelan Primera División (1)', 30.05)]}}\n"
     ]
    }
   ],
   "source": [
    "# Task 10\n",
    "import xml.etree.ElementTree as ET\n",
    "\n",
    "tree = ET.parse('football.xml')\n",
    "root = tree.getroot()\n",
    "\n",
    "league_ages = {}\n",
    "\n",
    "for league in root.findall(\".//league\"):\n",
    "    league_name = league.get(\"name\")  \n",
    "    total_age = 0\n",
    "    player_count = 0\n",
    "\n",
    "    for club in league.findall(\"club\"):\n",
    "        for player in club.findall(\"player\"):\n",
    "            age = int(player.get(\"age\"))  \n",
    "            total_age += age\n",
    "            player_count += 1\n",
    "\n",
    "    if player_count > 0:\n",
    "        mean_age = total_age / player_count\n",
    "        league_ages[league_name] = mean_age\n",
    "\n",
    "mean_league_age_sorted = sorted(league_ages.items(), key=lambda x: x[1])\n",
    "\n",
    "tasks['task_10'] = {'mean_league_age': mean_league_age_sorted}\n",
    "\n",
    "print(tasks)\n"
   ]
  },
  {
   "cell_type": "markdown",
   "id": "62bafce7",
   "metadata": {},
   "source": [
    "#### Task 11\n",
    "##### Pomocí \"base64\" zapište do JSONu FIFA fotku Patrika Schicka, nejstaršího hráče, nejlehčího hráče, nejnižšího hráče, nejvyššího hráče, \"nejagrasivnějšího\" hráče (atribut aggresion) /https://pythonhowtoprogram.com/how-to-decode-and-encode-in-base64-in-python-3//\n",
    "---\n",
    "\n",
    "```\n",
    "task_11: {patrik_schick: {photo: '<base64>'},\n",
    "          oldest: {photo: '<base64>',\n",
    "                   name: 'Full Name',\n",
    "                   age: ''},\n",
    "          lightest: {photo: '<base64>',\n",
    "                     name: 'Full Name',\n",
    "                     weight: ''}, \n",
    "          shortest: {photo: '<base64>',\n",
    "                     name: 'Full Name',\n",
    "                     height: ''},\n",
    "          tallest: {photo: '<base64>',\n",
    "                    name: 'Full Name',\n",
    "                    height: ''},\n",
    "          most_aggressive: {photo: '<base64>',\n",
    "                            name: 'Full Name',\n",
    "                            aggresivity: ''}}\n",
    "```\n",
    "---\n",
    "10 bodů"
   ]
  },
  {
   "cell_type": "code",
   "execution_count": 53,
   "id": "9fbe8d8e",
   "metadata": {},
   "outputs": [
    {
     "name": "stdout",
     "output_type": "stream",
     "text": [
      "HTTP error occurred: 403 Client Error: Forbidden for url: https://cdn.sofifa.com/players/234/236/22_60.png\n",
      "HTTP error occurred: 403 Client Error: Forbidden for url: https://cdn.sofifa.com/players/254/704/22_60.png\n",
      "HTTP error occurred: 403 Client Error: Forbidden for url: https://cdn.sofifa.com/players/262/024/22_60.png\n",
      "HTTP error occurred: 403 Client Error: Forbidden for url: https://cdn.sofifa.com/players/255/092/22_60.png\n",
      "HTTP error occurred: 403 Client Error: Forbidden for url: https://cdn.sofifa.com/players/199/321/22_60.png\n",
      "HTTP error occurred: 403 Client Error: Forbidden for url: https://cdn.sofifa.com/players/215/079/22_60.png\n",
      "{'task_01': {'n_players': 18268}, 'task_02': {'n_clubs_united': 24}, 'task_03': {'n_leagues': {'level_1': 40, 'level_2': 5, 'level_3': 2, 'level_4': 1}}, 'task_04': {'n_czech_players': 102}, 'task_05': {'best_czech_players': [('Tomáš Souček', 82), ('Tomáš Vaclík', 81), ('Vladimír Coufal', 80), ('Jiří Pavlenka', 80), ('Patrik Schick', 79), ('Ondřej Kolář', 78), ('Antonín Barák', 78), ('Pavel Kadeřábek', 78), ('Tomáš Holeš', 77), ('Lukas Provod', 77)]}, 'task_06': {'right_footed_ratio': '76.22 %'}, 'task_07': {'premier_league_playmakers': {'list': [{'full_name': 'Harry Kane', 'club': 'Tottenham Hotspur', 'value': 129500000, 'wage': 240000}, {'full_name': 'Sadio Mané', 'club': 'Liverpool', 'value': 101000000, 'wage': 270000}, {'full_name': 'Marcus Rashford', 'club': 'Manchester United', 'value': 77500000, 'wage': 150000}, {'full_name': 'Jack Grealish', 'club': 'Manchester City', 'value': 50500000, 'wage': 180000}, {'full_name': 'Christian Pulisic', 'club': 'Chelsea', 'value': 49000000, 'wage': 120000}, {'full_name': 'Raphael Dias Belloli', 'club': 'Leeds United', 'value': 46000000, 'wage': 89000}, {'full_name': 'James Maddison', 'club': 'Leicester City', 'value': 41500000, 'wage': 100000}, {'full_name': 'Emiliano Buendía', 'club': 'Aston Villa', 'value': 26500000, 'wage': 61000}, {'full_name': 'Allan Saint-Maximin', 'club': 'Newcastle United', 'value': 26500000, 'wage': 41000}, {'full_name': 'Daniel Castelo Podence', 'club': 'Wolverhampton Wanderers', 'value': 18500000, 'wage': 79000}, {'full_name': 'Emile Smith Rowe', 'club': 'Arsenal', 'value': 16500000, 'wage': 49000}, {'full_name': 'Eberechi Eze', 'club': 'Crystal Palace', 'value': 16500000, 'wage': 45000}, {'full_name': 'Gylfi Sigurðsson', 'club': 'Everton', 'value': 14500000, 'wage': 83000}, {'full_name': 'Alexis Mac Allister', 'club': 'Brighton & Hove Albion', 'value': 11500000, 'wage': 42000}, {'full_name': 'Alexis Mac Allister', 'club': 'Brighton & Hove Albion', 'value': 11500000, 'wage': 42000}, {'full_name': 'Ché Adams', 'club': 'Southampton', 'value': 11500000, 'wage': 46000}, {'full_name': 'Manuel Lanzini', 'club': 'West Ham United', 'value': 10500000, 'wage': 64000}, {'full_name': 'Josh Dasilva', 'club': 'Brentford', 'value': 7000000, 'wage': 31000}, {'full_name': 'João Pedro Junqueira de Jesus', 'club': 'Watford', 'value': 4500000, 'wage': 20000}, {'full_name': 'Kieran Dowell', 'club': 'Norwich City', 'value': 2800000, 'wage': 19000}], 'mean_value': 33665000.0, 'mean_wage': 88550.0}}, 'task_08': {'acc_header_gambrinus_league': 'Tomáš Chorý'}, 'task_09': {'best_20': [{'fullname': 'Lionel Messi', 'nationality': 'Argentina', 'club': 'Paris Saint-Germain', 'overall': 93, 'potential': 93, 'value': 78000000, 'wage': 320000, 'age': 34, 'height': 170, 'weight': 72}, {'fullname': 'Robert Lewandowski', 'nationality': 'Poland', 'club': 'FC Bayern München', 'overall': 92, 'potential': 92, 'value': 119500000, 'wage': 270000, 'age': 32, 'height': 185, 'weight': 81}, {'fullname': 'Kevin De Bruyne', 'nationality': 'Belgium', 'club': 'Manchester City', 'overall': 91, 'potential': 91, 'value': 125500000, 'wage': 350000, 'age': 30, 'height': 181, 'weight': 70}, {'fullname': 'C. Ronaldo dos Santos Aveiro', 'nationality': 'Portugal', 'club': 'Manchester United', 'overall': 91, 'potential': 91, 'value': 45000000, 'wage': 270000, 'age': 36, 'height': 187, 'weight': 83}, {'fullname': 'Jan Oblak', 'nationality': 'Slovenia', 'club': 'Atlético Madrid', 'overall': 91, 'potential': 93, 'value': 112000000, 'wage': 130000, 'age': 28, 'height': 188, 'weight': 87}, {'fullname': 'Kylian Mbappé', 'nationality': 'France', 'club': 'Paris Saint-Germain', 'overall': 91, 'potential': 95, 'value': 194000000, 'wage': 230000, 'age': 22, 'height': 182, 'weight': 73}, {'fullname': 'Neymar da Silva Santos Jr.', 'nationality': 'Brazil', 'club': 'Paris Saint-Germain', 'overall': 91, 'potential': 91, 'value': 129000000, 'wage': 270000, 'age': 29, 'height': 175, 'weight': 68}, {'fullname': \"N'Golo Kanté\", 'nationality': 'France', 'club': 'Chelsea', 'overall': 90, 'potential': 90, 'value': 100000000, 'wage': 230000, 'age': 30, 'height': 168, 'weight': 70}, {'fullname': 'Harry Kane', 'nationality': 'England', 'club': 'Tottenham Hotspur', 'overall': 90, 'potential': 90, 'value': 129500000, 'wage': 240000, 'age': 27, 'height': 188, 'weight': 89}, {'fullname': 'Marc-André ter Stegen', 'nationality': 'Germany', 'club': 'FC Barcelona', 'overall': 90, 'potential': 92, 'value': 99000000, 'wage': 250000, 'age': 29, 'height': 187, 'weight': 85}, {'fullname': 'Manuel Neuer', 'nationality': 'Germany', 'club': 'FC Bayern München', 'overall': 90, 'potential': 90, 'value': 13500000, 'wage': 86000, 'age': 35, 'height': 193, 'weight': 93}, {'fullname': 'Virgil van Dijk', 'nationality': 'Netherlands', 'club': 'Liverpool', 'overall': 89, 'potential': 89, 'value': 86000000, 'wage': 230000, 'age': 29, 'height': 193, 'weight': 92}, {'fullname': 'Sadio Mané', 'nationality': 'Senegal', 'club': 'Liverpool', 'overall': 89, 'potential': 89, 'value': 101000000, 'wage': 270000, 'age': 29, 'height': 175, 'weight': 69}, {'fullname': 'Alisson Ramses Becker', 'nationality': 'Brazil', 'club': 'Liverpool', 'overall': 89, 'potential': 90, 'value': 82000000, 'wage': 190000, 'age': 28, 'height': 191, 'weight': 91}, {'fullname': 'Mohamed Salah', 'nationality': 'Egypt', 'club': 'Liverpool', 'overall': 89, 'potential': 89, 'value': 101000000, 'wage': 270000, 'age': 29, 'height': 175, 'weight': 71}, {'fullname': 'Ederson Santana de Moraes', 'nationality': 'Brazil', 'club': 'Manchester City', 'overall': 89, 'potential': 91, 'value': 94000000, 'wage': 200000, 'age': 27, 'height': 188, 'weight': 86}, {'fullname': 'Heung Min Son', 'nationality': 'Korea Republic', 'club': 'Tottenham Hotspur', 'overall': 89, 'potential': 89, 'value': 104000000, 'wage': 220000, 'age': 28, 'height': 183, 'weight': 78}, {'fullname': 'Karim Benzema', 'nationality': 'France', 'club': 'Real Madrid', 'overall': 89, 'potential': 89, 'value': 66000000, 'wage': 350000, 'age': 33, 'height': 185, 'weight': 81}, {'fullname': 'Thibaut Courtois', 'nationality': 'Belgium', 'club': 'Real Madrid', 'overall': 89, 'potential': 91, 'value': 85500000, 'wage': 250000, 'age': 29, 'height': 199, 'weight': 96}, {'fullname': 'Carlos Henrique Venancio Casimiro', 'nationality': 'Brazil', 'club': 'Real Madrid', 'overall': 89, 'potential': 89, 'value': 88000000, 'wage': 310000, 'age': 29, 'height': 185, 'weight': 84}]}, 'task_10': {'mean_league_age': [('Holland Eredivisie (1)', 23.375510204081632), ('Danish Superliga (1)', 23.5251572327044), ('Austrian Football Bundesliga (1)', 23.796969696969697), ('Rep. Ireland Airtricity League (1)', 23.996124031007753), ('Belgian Jupiler Pro League (1)', 24.01443298969072), ('Swiss Super League (1)', 24.21323529411765), ('German 3. Bundesliga (3)', 24.25092250922509), ('French Ligue 1 (1)', 24.29059829059829), ('Croatian Prva HNL (1)', 24.381818181818183), ('German 1. Bundesliga (1)', 24.391696750902526), ('English League Championship (2)', 24.4187675070028), ('English Premier League (1)', 24.438650306748468), ('English League One (3)', 24.509584664536742), ('French Ligue 2 (2)', 24.525519848771268), ('Norwegian Eliteserien (1)', 24.571072319201996), ('Portuguese Liga ZON SAGRES (1)', 24.64566929133858), ('Russian Premier League (1)', 24.654761904761905), ('English League Two (4)', 24.6984375), ('UAE Arabian Gulf League (1)', 24.75), ('Australian Hyundai A-League (1)', 24.768953068592058), ('Ukrainian Premier League (1)', 24.82456140350877), ('German 2. Bundesliga (2)', 24.974509803921567), ('Polish T-Mobile Ekstraklasa (1)', 25.018145161290324), ('Indian Super League (1)', 25.238095238095237), ('Swedish Allsvenskan (1)', 25.325699745547073), ('Scottish Premiership (1)', 25.363636363636363), ('USA Major League Soccer (1)', 25.365409622886865), ('Spanish Segunda División (2)', 25.383584589614742), ('Spain Primera Division (1)', 25.462382445141067), ('Finnish Veikkausliiga (1)', 25.6), ('Hungarian Nemzeti Bajnokság I (1)', 25.655172413793103), ('Romanian Liga I (1)', 25.692307692307693), ('Italian Serie A (1)', 25.78125), ('Czech Republic Gambrinus Liga (1)', 25.814814814814813), ('Argentina Primera División \\xa0(1)', 25.858321870701513), ('Mexican Liga MX (1)', 25.86652977412731), ('Copa Latina (Copa Libertadores de América)', 25.935018050541515), ('Cypriot First Division (1)', 26.0), ('Campeonato Brasileiro Série A (1)', 26.078125), ('Greek Super League (1)', 26.234234234234233), ('Saudi Abdul L. Jameel League (1)', 26.27038626609442), ('Italian Serie B (2)', 26.303571428571427), ('Japanese J. League Division 1 (1)', 26.56122448979592), ('Turkish Süper Lig (1)', 26.75551470588235), ('Korean K League 1 (1)', 27.065671641791045), ('Chinese Super League (1)', 27.245495495495497), ('South African Premier Division (1)', 27.75), ('Venezuelan Primera División (1)', 30.05)]}, 'task_11': {'patrik_schick': {'photo': None}, 'oldest': {'photo': None, 'name': 'Kazuyoshi Miura', 'age': '54'}, 'lightest': {'photo': None, 'name': 'Nayel Mehssatou', 'weight': '49'}, 'shortest': {'photo': None, 'name': 'Marco García', 'height': '155'}, 'tallest': {'photo': None, 'name': 'Tomáš Holý', 'height': '206'}, 'most_aggressive': {'photo': None, 'name': 'Pablo Pérez', 'aggression': '95'}}}\n"
     ]
    }
   ],
   "source": [
    "# Task 11\n",
    "import xml.etree.ElementTree as ET\n",
    "import base64\n",
    "import requests\n",
    "from io import BytesIO\n",
    "from PIL import Image\n",
    "\n",
    "\n",
    "tree = ET.parse('football.xml')\n",
    "root = tree.getroot()\n",
    "\n",
    "patrik_schick = None\n",
    "oldest_player = None\n",
    "lightest_player = None\n",
    "shortest_player = None\n",
    "tallest_player = None\n",
    "most_aggressive_player = None\n",
    "\n",
    "for player in root.findall(\".//player\"):\n",
    "    full_name = player.get(\"fullname\")\n",
    "    age = int(player.get(\"age\"))\n",
    "    weight = int(player.get(\"weight\"))\n",
    "    height = int(player.get(\"height\"))\n",
    "    aggression = int(player.get(\"aggression\"))\n",
    "    photo_url = player.get(\"photourl\")\n",
    "    \n",
    "    if full_name == \"Patrik Schick\":\n",
    "        patrik_schick = {'photo': photo_url}\n",
    "\n",
    "    if oldest_player is None or age > oldest_player['age']:\n",
    "        oldest_player = {'photo': photo_url, 'name': full_name, 'age': age}\n",
    "    \n",
    "    if lightest_player is None or weight < lightest_player['weight']:\n",
    "        lightest_player = {'photo': photo_url, 'name': full_name, 'weight': weight}\n",
    "\n",
    "    if shortest_player is None or height < shortest_player['height']:\n",
    "        shortest_player = {'photo': photo_url, 'name': full_name, 'height': height}\n",
    "\n",
    "    if tallest_player is None or height > tallest_player['height']:\n",
    "        tallest_player = {'photo': photo_url, 'name': full_name, 'height': height}\n",
    "\n",
    "    if most_aggressive_player is None or aggression > most_aggressive_player['aggression']:\n",
    "        most_aggressive_player = {'photo': photo_url, 'name': full_name, 'aggression': aggression}\n",
    "\n",
    "def encode_image_to_base64(url):\n",
    "    try:\n",
    "        response = requests.get(url)\n",
    "        response.raise_for_status()  \n",
    "        image = Image.open(BytesIO(response.content))\n",
    "        buffered = BytesIO()\n",
    "        image.save(buffered, format=\"PNG\")\n",
    "        return base64.b64encode(buffered.getvalue()).decode('utf-8')\n",
    "    except requests.exceptions.RequestException as e:\n",
    "        print(f\"HTTP error occurred: {e}\")  \n",
    "        return None\n",
    "    except Exception as e:\n",
    "        print(f\"Error occurred while processing image: {e}\")  \n",
    "        return None\n",
    "\n",
    "task_11 = {\n",
    "    'patrik_schick': {\n",
    "        'photo': encode_image_to_base64(patrik_schick['photo']) if patrik_schick else None\n",
    "    },\n",
    "    'oldest': {\n",
    "        'photo': encode_image_to_base64(oldest_player['photo']) if oldest_player else None,\n",
    "        'name': oldest_player['name'] if oldest_player else '',\n",
    "        'age': str(oldest_player['age']) if oldest_player else ''\n",
    "    },\n",
    "    'lightest': {\n",
    "        'photo': encode_image_to_base64(lightest_player['photo']) if lightest_player else None,\n",
    "        'name': lightest_player['name'] if lightest_player else '',\n",
    "        'weight': str(lightest_player['weight']) if lightest_player else ''\n",
    "    },\n",
    "    'shortest': {\n",
    "        'photo': encode_image_to_base64(shortest_player['photo']) if shortest_player else None,\n",
    "        'name': shortest_player['name'] if shortest_player else '',\n",
    "        'height': str(shortest_player['height']) if shortest_player else ''\n",
    "    },\n",
    "    'tallest': {\n",
    "        'photo': encode_image_to_base64(tallest_player['photo']) if tallest_player else None,\n",
    "        'name': tallest_player['name'] if tallest_player else '',\n",
    "        'height': str(tallest_player['height']) if tallest_player else ''\n",
    "    },\n",
    "    'most_aggressive': {\n",
    "        'photo': encode_image_to_base64(most_aggressive_player['photo']) if most_aggressive_player else None,\n",
    "        'name': most_aggressive_player['name'] if most_aggressive_player else '',\n",
    "        'aggression': str(most_aggressive_player['aggression']) if most_aggressive_player else ''\n",
    "    }\n",
    "}\n",
    "\n",
    "tasks['task_11'] = task_11\n",
    "\n",
    "print(tasks)"
   ]
  },
  {
   "cell_type": "markdown",
   "id": "fc21f245",
   "metadata": {},
   "source": [
    "#### Task 12 - Bonus\n",
    "##### Bonusový úkol - vaše fotbalová sestava snů (bez bodů, jen tak pro zajímavost). Lze vyřešit programově (vybrat na dané pozice dle zvoleného rozestavení hráče s nejlepším hodnocením), i ručně (:-/). layout: (např. 4-4-2, 3-4-3, 3-5-2, atp....)\n",
    "---\n",
    "\n",
    "```\n",
    "task_12: {my_eleven: {layout: '', \n",
    "                      golie: <player>, \n",
    "                      defense: [<player>, <player>, ...], \n",
    "                      midfield: [...], \n",
    "                      attack: [...]}}\n",
    "\n",
    "<player>: {fullname: '', \n",
    "           nationality: '', \n",
    "           club: '', \n",
    "           overall: '', \n",
    "           potential: '', \n",
    "           value: '', \n",
    "           wage: '', \n",
    "           age: '', \n",
    "           height: '', \n",
    "           weight: ''}\n",
    "```\n",
    "---\n",
    "bez bodů, jen tak pro zajímavost (pro zájemce a případné nadšence do fotbalu či do Pythonu)"
   ]
  },
  {
   "cell_type": "code",
   "execution_count": 54,
   "id": "554484b1",
   "metadata": {},
   "outputs": [
    {
     "name": "stdout",
     "output_type": "stream",
     "text": [
      "{'task_01': {'n_players': 18268}, 'task_02': {'n_clubs_united': 24}, 'task_03': {'n_leagues': {'level_1': 40, 'level_2': 5, 'level_3': 2, 'level_4': 1}}, 'task_04': {'n_czech_players': 102}, 'task_05': {'best_czech_players': [('Tomáš Souček', 82), ('Tomáš Vaclík', 81), ('Vladimír Coufal', 80), ('Jiří Pavlenka', 80), ('Patrik Schick', 79), ('Ondřej Kolář', 78), ('Antonín Barák', 78), ('Pavel Kadeřábek', 78), ('Tomáš Holeš', 77), ('Lukas Provod', 77)]}, 'task_06': {'right_footed_ratio': '76.22 %'}, 'task_07': {'premier_league_playmakers': {'list': [{'full_name': 'Harry Kane', 'club': 'Tottenham Hotspur', 'value': 129500000, 'wage': 240000}, {'full_name': 'Sadio Mané', 'club': 'Liverpool', 'value': 101000000, 'wage': 270000}, {'full_name': 'Marcus Rashford', 'club': 'Manchester United', 'value': 77500000, 'wage': 150000}, {'full_name': 'Jack Grealish', 'club': 'Manchester City', 'value': 50500000, 'wage': 180000}, {'full_name': 'Christian Pulisic', 'club': 'Chelsea', 'value': 49000000, 'wage': 120000}, {'full_name': 'Raphael Dias Belloli', 'club': 'Leeds United', 'value': 46000000, 'wage': 89000}, {'full_name': 'James Maddison', 'club': 'Leicester City', 'value': 41500000, 'wage': 100000}, {'full_name': 'Emiliano Buendía', 'club': 'Aston Villa', 'value': 26500000, 'wage': 61000}, {'full_name': 'Allan Saint-Maximin', 'club': 'Newcastle United', 'value': 26500000, 'wage': 41000}, {'full_name': 'Daniel Castelo Podence', 'club': 'Wolverhampton Wanderers', 'value': 18500000, 'wage': 79000}, {'full_name': 'Emile Smith Rowe', 'club': 'Arsenal', 'value': 16500000, 'wage': 49000}, {'full_name': 'Eberechi Eze', 'club': 'Crystal Palace', 'value': 16500000, 'wage': 45000}, {'full_name': 'Gylfi Sigurðsson', 'club': 'Everton', 'value': 14500000, 'wage': 83000}, {'full_name': 'Alexis Mac Allister', 'club': 'Brighton & Hove Albion', 'value': 11500000, 'wage': 42000}, {'full_name': 'Alexis Mac Allister', 'club': 'Brighton & Hove Albion', 'value': 11500000, 'wage': 42000}, {'full_name': 'Ché Adams', 'club': 'Southampton', 'value': 11500000, 'wage': 46000}, {'full_name': 'Manuel Lanzini', 'club': 'West Ham United', 'value': 10500000, 'wage': 64000}, {'full_name': 'Josh Dasilva', 'club': 'Brentford', 'value': 7000000, 'wage': 31000}, {'full_name': 'João Pedro Junqueira de Jesus', 'club': 'Watford', 'value': 4500000, 'wage': 20000}, {'full_name': 'Kieran Dowell', 'club': 'Norwich City', 'value': 2800000, 'wage': 19000}], 'mean_value': 33665000.0, 'mean_wage': 88550.0}}, 'task_08': {'acc_header_gambrinus_league': 'Tomáš Chorý'}, 'task_09': {'best_20': [{'fullname': 'Lionel Messi', 'nationality': 'Argentina', 'club': 'Paris Saint-Germain', 'overall': 93, 'potential': 93, 'value': 78000000, 'wage': 320000, 'age': 34, 'height': 170, 'weight': 72}, {'fullname': 'Robert Lewandowski', 'nationality': 'Poland', 'club': 'FC Bayern München', 'overall': 92, 'potential': 92, 'value': 119500000, 'wage': 270000, 'age': 32, 'height': 185, 'weight': 81}, {'fullname': 'Kevin De Bruyne', 'nationality': 'Belgium', 'club': 'Manchester City', 'overall': 91, 'potential': 91, 'value': 125500000, 'wage': 350000, 'age': 30, 'height': 181, 'weight': 70}, {'fullname': 'C. Ronaldo dos Santos Aveiro', 'nationality': 'Portugal', 'club': 'Manchester United', 'overall': 91, 'potential': 91, 'value': 45000000, 'wage': 270000, 'age': 36, 'height': 187, 'weight': 83}, {'fullname': 'Jan Oblak', 'nationality': 'Slovenia', 'club': 'Atlético Madrid', 'overall': 91, 'potential': 93, 'value': 112000000, 'wage': 130000, 'age': 28, 'height': 188, 'weight': 87}, {'fullname': 'Kylian Mbappé', 'nationality': 'France', 'club': 'Paris Saint-Germain', 'overall': 91, 'potential': 95, 'value': 194000000, 'wage': 230000, 'age': 22, 'height': 182, 'weight': 73}, {'fullname': 'Neymar da Silva Santos Jr.', 'nationality': 'Brazil', 'club': 'Paris Saint-Germain', 'overall': 91, 'potential': 91, 'value': 129000000, 'wage': 270000, 'age': 29, 'height': 175, 'weight': 68}, {'fullname': \"N'Golo Kanté\", 'nationality': 'France', 'club': 'Chelsea', 'overall': 90, 'potential': 90, 'value': 100000000, 'wage': 230000, 'age': 30, 'height': 168, 'weight': 70}, {'fullname': 'Harry Kane', 'nationality': 'England', 'club': 'Tottenham Hotspur', 'overall': 90, 'potential': 90, 'value': 129500000, 'wage': 240000, 'age': 27, 'height': 188, 'weight': 89}, {'fullname': 'Marc-André ter Stegen', 'nationality': 'Germany', 'club': 'FC Barcelona', 'overall': 90, 'potential': 92, 'value': 99000000, 'wage': 250000, 'age': 29, 'height': 187, 'weight': 85}, {'fullname': 'Manuel Neuer', 'nationality': 'Germany', 'club': 'FC Bayern München', 'overall': 90, 'potential': 90, 'value': 13500000, 'wage': 86000, 'age': 35, 'height': 193, 'weight': 93}, {'fullname': 'Virgil van Dijk', 'nationality': 'Netherlands', 'club': 'Liverpool', 'overall': 89, 'potential': 89, 'value': 86000000, 'wage': 230000, 'age': 29, 'height': 193, 'weight': 92}, {'fullname': 'Sadio Mané', 'nationality': 'Senegal', 'club': 'Liverpool', 'overall': 89, 'potential': 89, 'value': 101000000, 'wage': 270000, 'age': 29, 'height': 175, 'weight': 69}, {'fullname': 'Alisson Ramses Becker', 'nationality': 'Brazil', 'club': 'Liverpool', 'overall': 89, 'potential': 90, 'value': 82000000, 'wage': 190000, 'age': 28, 'height': 191, 'weight': 91}, {'fullname': 'Mohamed Salah', 'nationality': 'Egypt', 'club': 'Liverpool', 'overall': 89, 'potential': 89, 'value': 101000000, 'wage': 270000, 'age': 29, 'height': 175, 'weight': 71}, {'fullname': 'Ederson Santana de Moraes', 'nationality': 'Brazil', 'club': 'Manchester City', 'overall': 89, 'potential': 91, 'value': 94000000, 'wage': 200000, 'age': 27, 'height': 188, 'weight': 86}, {'fullname': 'Heung Min Son', 'nationality': 'Korea Republic', 'club': 'Tottenham Hotspur', 'overall': 89, 'potential': 89, 'value': 104000000, 'wage': 220000, 'age': 28, 'height': 183, 'weight': 78}, {'fullname': 'Karim Benzema', 'nationality': 'France', 'club': 'Real Madrid', 'overall': 89, 'potential': 89, 'value': 66000000, 'wage': 350000, 'age': 33, 'height': 185, 'weight': 81}, {'fullname': 'Thibaut Courtois', 'nationality': 'Belgium', 'club': 'Real Madrid', 'overall': 89, 'potential': 91, 'value': 85500000, 'wage': 250000, 'age': 29, 'height': 199, 'weight': 96}, {'fullname': 'Carlos Henrique Venancio Casimiro', 'nationality': 'Brazil', 'club': 'Real Madrid', 'overall': 89, 'potential': 89, 'value': 88000000, 'wage': 310000, 'age': 29, 'height': 185, 'weight': 84}]}, 'task_10': {'mean_league_age': [('Holland Eredivisie (1)', 23.375510204081632), ('Danish Superliga (1)', 23.5251572327044), ('Austrian Football Bundesliga (1)', 23.796969696969697), ('Rep. Ireland Airtricity League (1)', 23.996124031007753), ('Belgian Jupiler Pro League (1)', 24.01443298969072), ('Swiss Super League (1)', 24.21323529411765), ('German 3. Bundesliga (3)', 24.25092250922509), ('French Ligue 1 (1)', 24.29059829059829), ('Croatian Prva HNL (1)', 24.381818181818183), ('German 1. Bundesliga (1)', 24.391696750902526), ('English League Championship (2)', 24.4187675070028), ('English Premier League (1)', 24.438650306748468), ('English League One (3)', 24.509584664536742), ('French Ligue 2 (2)', 24.525519848771268), ('Norwegian Eliteserien (1)', 24.571072319201996), ('Portuguese Liga ZON SAGRES (1)', 24.64566929133858), ('Russian Premier League (1)', 24.654761904761905), ('English League Two (4)', 24.6984375), ('UAE Arabian Gulf League (1)', 24.75), ('Australian Hyundai A-League (1)', 24.768953068592058), ('Ukrainian Premier League (1)', 24.82456140350877), ('German 2. Bundesliga (2)', 24.974509803921567), ('Polish T-Mobile Ekstraklasa (1)', 25.018145161290324), ('Indian Super League (1)', 25.238095238095237), ('Swedish Allsvenskan (1)', 25.325699745547073), ('Scottish Premiership (1)', 25.363636363636363), ('USA Major League Soccer (1)', 25.365409622886865), ('Spanish Segunda División (2)', 25.383584589614742), ('Spain Primera Division (1)', 25.462382445141067), ('Finnish Veikkausliiga (1)', 25.6), ('Hungarian Nemzeti Bajnokság I (1)', 25.655172413793103), ('Romanian Liga I (1)', 25.692307692307693), ('Italian Serie A (1)', 25.78125), ('Czech Republic Gambrinus Liga (1)', 25.814814814814813), ('Argentina Primera División \\xa0(1)', 25.858321870701513), ('Mexican Liga MX (1)', 25.86652977412731), ('Copa Latina (Copa Libertadores de América)', 25.935018050541515), ('Cypriot First Division (1)', 26.0), ('Campeonato Brasileiro Série A (1)', 26.078125), ('Greek Super League (1)', 26.234234234234233), ('Saudi Abdul L. Jameel League (1)', 26.27038626609442), ('Italian Serie B (2)', 26.303571428571427), ('Japanese J. League Division 1 (1)', 26.56122448979592), ('Turkish Süper Lig (1)', 26.75551470588235), ('Korean K League 1 (1)', 27.065671641791045), ('Chinese Super League (1)', 27.245495495495497), ('South African Premier Division (1)', 27.75), ('Venezuelan Primera División (1)', 30.05)]}, 'task_11': {'patrik_schick': {'photo': None}, 'oldest': {'photo': None, 'name': 'Kazuyoshi Miura', 'age': '54'}, 'lightest': {'photo': None, 'name': 'Nayel Mehssatou', 'weight': '49'}, 'shortest': {'photo': None, 'name': 'Marco García', 'height': '155'}, 'tallest': {'photo': None, 'name': 'Tomáš Holý', 'height': '206'}, 'most_aggressive': {'photo': None, 'name': 'Pablo Pérez', 'aggression': '95'}}, 'task_12': {'my_eleven': {'layout': '4-4-2', 'golie': {'fullname': 'Jan Oblak', 'nationality': 'Slovenia', 'club': 'Atlético Madrid', 'overall': 91, 'potential': 93, 'value': 112000000, 'wage': 130000, 'age': 28, 'height': 188, 'weight': 87}, 'defense': [{'fullname': 'Virgil van Dijk', 'nationality': 'Netherlands', 'club': 'Liverpool', 'overall': 89, 'potential': 89, 'value': 86000000, 'wage': 230000, 'age': 29, 'height': 193, 'weight': 92}, {'fullname': 'Rúben Santos Gato Alves Dias', 'nationality': 'Portugal', 'club': 'Manchester City', 'overall': 87, 'potential': 91, 'value': 102500000, 'wage': 170000, 'age': 24, 'height': 187, 'weight': 82}, {'fullname': 'Sergio Ramos García', 'nationality': 'Spain', 'club': 'Paris Saint-Germain', 'overall': 88, 'potential': 88, 'value': 24000000, 'wage': 115000, 'age': 35, 'height': 184, 'weight': 82}, {'fullname': 'Joshua Kimmich', 'nationality': 'Germany', 'club': 'FC Bayern München', 'overall': 89, 'potential': 90, 'value': 108000000, 'wage': 160000, 'age': 26, 'height': 177, 'weight': 75}], 'midfield': [{'fullname': \"N'Golo Kanté\", 'nationality': 'France', 'club': 'Chelsea', 'overall': 90, 'potential': 90, 'value': 100000000, 'wage': 230000, 'age': 30, 'height': 168, 'weight': 70}, {'fullname': 'Kevin De Bruyne', 'nationality': 'Belgium', 'club': 'Manchester City', 'overall': 91, 'potential': 91, 'value': 125500000, 'wage': 350000, 'age': 30, 'height': 181, 'weight': 70}, {'fullname': 'Carlos Henrique Venancio Casimiro', 'nationality': 'Brazil', 'club': 'Real Madrid', 'overall': 89, 'potential': 89, 'value': 88000000, 'wage': 310000, 'age': 29, 'height': 185, 'weight': 84}, {'fullname': 'Neymar da Silva Santos Jr.', 'nationality': 'Brazil', 'club': 'Paris Saint-Germain', 'overall': 91, 'potential': 91, 'value': 129000000, 'wage': 270000, 'age': 29, 'height': 175, 'weight': 68}], 'attack': [{'fullname': 'Lionel Messi', 'nationality': 'Argentina', 'club': 'Paris Saint-Germain', 'overall': 93, 'potential': 93, 'value': 78000000, 'wage': 320000, 'age': 34, 'height': 170, 'weight': 72}, {'fullname': 'Robert Lewandowski', 'nationality': 'Poland', 'club': 'FC Bayern München', 'overall': 92, 'potential': 92, 'value': 119500000, 'wage': 270000, 'age': 32, 'height': 185, 'weight': 81}]}}}\n"
     ]
    }
   ],
   "source": [
    "import xml.etree.ElementTree as ET\n",
    "\n",
    "tree = ET.parse('football.xml')\n",
    "root = tree.getroot()\n",
    "\n",
    "goalkeeper = None\n",
    "defenders = []\n",
    "midfielders = []\n",
    "forwards = []\n",
    "\n",
    "for player in root.findall(\".//player\"):\n",
    "    full_name = player.get(\"fullname\")\n",
    "    nationality = player.get(\"nationality\")\n",
    "    club = player.get(\"club\")\n",
    "    overall = int(player.get(\"overall\"))\n",
    "    potential = int(player.get(\"potential\"))\n",
    "    value = int(player.get(\"valueeur\"))\n",
    "    wage = int(player.get(\"wageeur\"))\n",
    "    age = int(player.get(\"age\"))\n",
    "    height = int(player.get(\"height\"))\n",
    "    weight = int(player.get(\"weight\"))\n",
    "    positions = player.get(\"positions\").split(\",\")  # Get player positions\n",
    "\n",
    "    if 'GK' in positions and (goalkeeper is None or overall > int(goalkeeper['overall'])):\n",
    "        goalkeeper = {\n",
    "            'fullname': full_name,\n",
    "            'nationality': nationality,\n",
    "            'club': club,\n",
    "            'overall': overall,\n",
    "            'potential': potential,\n",
    "            'value': value,\n",
    "            'wage': wage,\n",
    "            'age': age,\n",
    "            'height': height,\n",
    "            'weight': weight\n",
    "        }\n",
    "\n",
    "    if 'CB' in positions or 'RB' in positions or 'LB' in positions:\n",
    "        if len(defenders) < 4:\n",
    "            defenders.append({\n",
    "                'fullname': full_name,\n",
    "                'nationality': nationality,\n",
    "                'club': club,\n",
    "                'overall': overall,\n",
    "                'potential': potential,\n",
    "                'value': value,\n",
    "                'wage': wage,\n",
    "                'age': age,\n",
    "                'height': height,\n",
    "                'weight': weight\n",
    "            })\n",
    "        else:\n",
    "            weakest_defender = min(defenders, key=lambda x: x['overall'])\n",
    "            if overall > weakest_defender['overall']:\n",
    "                defenders.remove(weakest_defender)\n",
    "                defenders.append({\n",
    "                    'fullname': full_name,\n",
    "                    'nationality': nationality,\n",
    "                    'club': club,\n",
    "                    'overall': overall,\n",
    "                    'potential': potential,\n",
    "                    'value': value,\n",
    "                    'wage': wage,\n",
    "                    'age': age,\n",
    "                    'height': height,\n",
    "                    'weight': weight\n",
    "                })\n",
    "\n",
    "    if 'CM' in positions or 'CDM' in positions or 'CAM' in positions:\n",
    "        if len(midfielders) < 4:\n",
    "            midfielders.append({\n",
    "                'fullname': full_name,\n",
    "                'nationality': nationality,\n",
    "                'club': club,\n",
    "                'overall': overall,\n",
    "                'potential': potential,\n",
    "                'value': value,\n",
    "                'wage': wage,\n",
    "                'age': age,\n",
    "                'height': height,\n",
    "                'weight': weight\n",
    "            })\n",
    "        else:\n",
    "            weakest_midfielder = min(midfielders, key=lambda x: x['overall'])\n",
    "            if overall > weakest_midfielder['overall']:\n",
    "                midfielders.remove(weakest_midfielder)\n",
    "                midfielders.append({\n",
    "                    'fullname': full_name,\n",
    "                    'nationality': nationality,\n",
    "                    'club': club,\n",
    "                    'overall': overall,\n",
    "                    'potential': potential,\n",
    "                    'value': value,\n",
    "                    'wage': wage,\n",
    "                    'age': age,\n",
    "                    'height': height,\n",
    "                    'weight': weight\n",
    "                })\n",
    "\n",
    "    if 'ST' in positions or 'LW' in positions or 'RW' in positions:\n",
    "        if len(forwards) < 2:\n",
    "            forwards.append({\n",
    "                'fullname': full_name,\n",
    "                'nationality': nationality,\n",
    "                'club': club,\n",
    "                'overall': overall,\n",
    "                'potential': potential,\n",
    "                'value': value,\n",
    "                'wage': wage,\n",
    "                'age': age,\n",
    "                'height': height,\n",
    "                'weight': weight\n",
    "            })\n",
    "        else:\n",
    "            weakest_forward = min(forwards, key=lambda x: x['overall'])\n",
    "            if overall > weakest_forward['overall']:\n",
    "                forwards.remove(weakest_forward)\n",
    "                forwards.append({\n",
    "                    'fullname': full_name,\n",
    "                    'nationality': nationality,\n",
    "                    'club': club,\n",
    "                    'overall': overall,\n",
    "                    'potential': potential,\n",
    "                    'value': value,\n",
    "                    'wage': wage,\n",
    "                    'age': age,\n",
    "                    'height': height,\n",
    "                    'weight': weight\n",
    "                })\n",
    "\n",
    "task_12 = {\n",
    "    'my_eleven': {\n",
    "        'layout': '4-4-2',\n",
    "        'golie': goalkeeper,\n",
    "        'defense': defenders,\n",
    "        'midfield': midfielders,\n",
    "        'attack': forwards\n",
    "    }\n",
    "}\n",
    "\n",
    "tasks['task_12'] = task_12\n",
    "\n",
    "print(tasks)\n"
   ]
  },
  {
   "cell_type": "code",
   "execution_count": 55,
   "id": "9a8e3537",
   "metadata": {},
   "outputs": [],
   "source": [
    "with open('fifa_'+cfg['username']+'.json', 'w') as fp:\n",
    "    json_dump(tasks, fp)"
   ]
  },
  {
   "cell_type": "code",
   "execution_count": null,
   "id": "ffe8557c",
   "metadata": {},
   "outputs": [],
   "source": []
  }
 ],
 "metadata": {
  "kernelspec": {
   "display_name": "Python 3",
   "language": "python",
   "name": "python3"
  },
  "language_info": {
   "codemirror_mode": {
    "name": "ipython",
    "version": 3
   },
   "file_extension": ".py",
   "mimetype": "text/x-python",
   "name": "python",
   "nbconvert_exporter": "python",
   "pygments_lexer": "ipython3",
   "version": "3.10.5"
  }
 },
 "nbformat": 4,
 "nbformat_minor": 5
}
