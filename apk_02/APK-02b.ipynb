{
 "cells": [
  {
   "cell_type": "markdown",
   "metadata": {},
   "source": [
    "# Výrazy\n",
    "\n",
    "Výrazem v Pythonu je především následující:\n",
    "* **jméno** přiřazené objektu (\"proměnná\")\n",
    "* **přímý zápis objektu** (literál) - číslo, řetězec, seznam, n-tice, slovník\n",
    "* **kombinace výrazů pomocí operátorů**\n",
    "* **volání funkce**\n",
    "\n",
    "## Priorita operátorů\n",
    "\n",
    "Od nejvyšší k nejnižší:\n",
    "* **volání funkce** `a(...)`\n",
    "* **indexace** `a[...]`\n",
    "* **umocňování** `**`\n",
    "* **násobení/dělení** `* / // %`\n",
    "* **bitové operátory** `<< >> & ^ |`\n",
    "* **porovnání** `in, not in, is, is not < <= > >= != ==`\n",
    "* **logické** `not, and, or`\n",
    "\n",
    "Více na: https://docs.python.org/3/reference/expressions.html#operator-precedence\n"
   ]
  },
  {
   "cell_type": "code",
   "execution_count": null,
   "metadata": {},
   "outputs": [],
   "source": [
    "3 >= 4"
   ]
  },
  {
   "cell_type": "code",
   "execution_count": null,
   "metadata": {},
   "outputs": [],
   "source": [
    "a = [1, 2, 3, 4]\n",
    "5 not in a"
   ]
  },
  {
   "cell_type": "code",
   "execution_count": null,
   "metadata": {},
   "outputs": [],
   "source": [
    "\"abc\" in \"abcde\""
   ]
  },
  {
   "cell_type": "code",
   "execution_count": null,
   "metadata": {},
   "outputs": [],
   "source": [
    "(1 < 2) and (not 3 < 2)"
   ]
  },
  {
   "cell_type": "code",
   "execution_count": null,
   "metadata": {},
   "outputs": [],
   "source": [
    "1 < 0 or 2 < 1"
   ]
  },
  {
   "cell_type": "code",
   "execution_count": null,
   "metadata": {},
   "outputs": [],
   "source": [
    "x = 1\n",
    "0 < x < 2"
   ]
  },
  {
   "cell_type": "code",
   "execution_count": null,
   "metadata": {},
   "outputs": [],
   "source": [
    "x = y = 0\n",
    "x == y"
   ]
  },
  {
   "cell_type": "code",
   "execution_count": null,
   "metadata": {},
   "outputs": [],
   "source": [
    "x = 1\n",
    "x == y"
   ]
  },
  {
   "cell_type": "code",
   "execution_count": null,
   "metadata": {},
   "outputs": [],
   "source": [
    "x == y+1"
   ]
  },
  {
   "cell_type": "code",
   "execution_count": null,
   "metadata": {},
   "outputs": [],
   "source": [
    "x != y"
   ]
  },
  {
   "cell_type": "code",
   "execution_count": null,
   "metadata": {},
   "outputs": [],
   "source": [
    "not x == y"
   ]
  },
  {
   "cell_type": "code",
   "execution_count": null,
   "metadata": {},
   "outputs": [],
   "source": [
    "x = [1, 2, [3, 4]]\n",
    "y = [1, 2, [3, 4]]\n",
    "z = x\n",
    "z.append(3) \n",
    "x == y  # paltí: x != y, z == x"
   ]
  },
  {
   "cell_type": "code",
   "execution_count": null,
   "metadata": {},
   "outputs": [],
   "source": [
    "abs(123456 - 123456.) < 1e-6   # Takto se porovnávají dva floaty (na blízkost v absolutní hodnotě rozdílu)"
   ]
  },
  {
   "cell_type": "code",
   "execution_count": null,
   "metadata": {},
   "outputs": [],
   "source": [
    "y = None\n",
    "if y is None:\n",
    "    print(\"None\")"
   ]
  },
  {
   "cell_type": "markdown",
   "metadata": {},
   "source": [
    "## Logická pravdivost výrazů\n",
    "\n",
    "### Logicky pravdivé výrazy\n",
    "\n",
    "* Nenulová číselná hodnota (`1`, `2`, `2.5`)\n",
    "* Neprázdný kontejnerový typ (seznam, n-tice, slovník)\n",
    "* Neprázdný řetězec (`\"a\"`, `\"řetězec\"`)\n",
    "* `True`\n",
    "\n",
    "### Logicky nepravdivé výrazy\n",
    "\n",
    "* Nulová číselná hodnota (`0`, `0.0`)\n",
    "* Prázdný kontejnerový typ (`[]`, `()`, `{}`)\n",
    "* Prázdný řetězec (`\"\"`)\n",
    "* `False`, `None`\n",
    "\n",
    "Explicitní konverze na logickou hodnotu pomocí `bool(...)`"
   ]
  },
  {
   "cell_type": "code",
   "execution_count": null,
   "metadata": {},
   "outputs": [],
   "source": [
    "x = [1, 2]\n",
    "bool(x)     # explicitní přetypování na bool"
   ]
  },
  {
   "cell_type": "code",
   "execution_count": null,
   "metadata": {},
   "outputs": [],
   "source": [
    "x.remove(1)\n",
    "x.remove(2)\n",
    "bool(x)"
   ]
  },
  {
   "cell_type": "markdown",
   "metadata": {},
   "source": [
    "# Podmíněný příkaz `if`\n",
    "\n",
    "## Základní podmínka\n",
    "\n",
    "Je-li `výraz` logicky pravdivý, pak se vykoná posloupnost `příkaz1`, `příkaz2` ... v těle podmínky. Tělo podmínky dáno odsazením (následující řádky po řádku končícím dvojtečkou):\n",
    "\n",
    "```\n",
    "if výraz:\n",
    "    příkaz1\n",
    "    příkaz2\n",
    "    ...\n",
    "```\n",
    "\n",
    "## Větev else\n",
    "\n",
    "Posloupnost `příkaz3`, `příkaz4` ... se vykoná pokud `výraz` je logicky nepravdivý:\n",
    "\n",
    "```\n",
    "if výraz:\n",
    "    příkaz1\n",
    "    příkaz2\n",
    "    ...\n",
    "else:\n",
    "    příkaz3\n",
    "    příkaz4\n",
    "    ...\n",
    "```\n",
    "\n",
    "## Větev elif\n",
    "\n",
    "Nejprve se testuje `výraz1`, je-li pravdivý, vykoná se `příkaz1`, `příkaz2`. Je-li nepravdivý, testuje se `výraz2` a pokud je ten pravdivý, vykoná se `příkaz13`, `příkaz4`. Je-li `výraz2` nepravdivý, vykonáse větev `else:`.\n",
    "\n",
    "```\n",
    "if výraz1:\n",
    "    příkaz1\n",
    "    příkaz2\n",
    "    ...\n",
    "elif výraz2:\n",
    "    příkaz3\n",
    "    příkaz4\n",
    "    ...\n",
    "else:\n",
    "    příkaz5\n",
    "    příkaz6\n",
    "    ...\n",
    "```\n",
    "\n",
    "Použití `elif` zabrání přílišnému zanoření při kombinaci `if` a `else`.\n",
    "\n",
    "Větví `elif` lze použít více, pak se podmínky vyhodnocují postupní a první odpovídající je vykonána."
   ]
  },
  {
   "cell_type": "code",
   "execution_count": null,
   "metadata": {},
   "outputs": [],
   "source": [
    "seznam = [1, 2, 3]\n",
    "slovnik = {\"jedna\": 1, \"dva\": 2}\n",
    "vstup = input(\"Pro vypsání seznamu zadejte 1, pro vypsání slovníku zadejte 2, pro konec zadejte 3: \")\n",
    "\n",
    "if vstup == \"1\":\n",
    "    print(\"Seznam:\", seznam)\n",
    "elif vstup == \"2\":\n",
    "    print(\"Slovník:\", slovnik)\n",
    "elif vstup == \"3\":\n",
    "    print(\"Konec...\")\n",
    "    # ukonceni programu\n",
    "else:\n",
    "    print(\"Zadejte pouze 1, 2 nebo 3\")"
   ]
  },
  {
   "cell_type": "markdown",
   "metadata": {},
   "source": [
    "# Cyklus `while`\n",
    "\n",
    "Cyklus s podmínkou na začátku, platnost podmínky se testuje před každým vykonáním těla a příkaz se vykonává, dokud je podmínka `výraz` pravdivá:\n",
    "\n",
    "```\n",
    "while výraz:\n",
    "    příkaz1\n",
    "    příkaz2\n",
    "    ...\n",
    "```"
   ]
  },
  {
   "cell_type": "code",
   "execution_count": null,
   "metadata": {},
   "outputs": [],
   "source": [
    "n = 0\n",
    "print(\"n\", \"n**2\", \"n**3\")\n",
    "while n < 10:\n",
    "    print(n, n**2, n**3)\n",
    "    n += 1  # totéž jako n = n + 1"
   ]
  },
  {
   "cell_type": "code",
   "execution_count": null,
   "metadata": {},
   "outputs": [],
   "source": [
    "x = y = 0\n",
    "ukonci = False\n",
    "while x < 10:\n",
    "    while y < 10:\n",
    "        y += 1\n",
    "        if y == 8:\n",
    "            ukonci = True\n",
    "            break\n",
    "    x += 1\n",
    "    if ukonci:\n",
    "        break"
   ]
  },
  {
   "cell_type": "markdown",
   "metadata": {},
   "source": [
    "## Ukončení / opakování cyklu\n",
    "\n",
    "* Příkaz `break` ukončí aktuální cyklus (nejvnitřnější)\n",
    "* Příkaz `continue` ukončí aktuální průchod cyklem a skočí na začátek cyklu\n",
    "\n",
    "## Praktické použití nekonečného cyklu `while`\n",
    "\n",
    "Nebojte se používat nekonečný cyklus `while True` ve spojení s příkazem `break` - umožňuje testování podmínky **kdekoli uvnitř cyklu**:"
   ]
  },
  {
   "cell_type": "code",
   "execution_count": null,
   "metadata": {},
   "outputs": [],
   "source": [
    "while True:\n",
    "    vstup = input(\"Pro vypsání seznamu zadejte 1, pro vypsání slovníku zadejte 2, pro konec zadejte 3: \")\n",
    "\n",
    "    if vstup == \"1\":\n",
    "        print(\"Seznam:\", seznam)\n",
    "    elif vstup == \"2\":\n",
    "        print(\"Slovník:\", slovnik)\n",
    "    elif vstup == \"3\":\n",
    "        print(\"Konec...\")\n",
    "        break # ukonceni cyklu\n",
    "    else:\n",
    "        print(\"Zadejte pouze 1, 2 nebo 3\")"
   ]
  },
  {
   "cell_type": "markdown",
   "metadata": {},
   "source": [
    "# Cyklus `for`\n",
    "\n",
    "```\n",
    "for jméno in iter:\n",
    "    příkaz1\n",
    "    příkaz2\n",
    "    ...\n",
    "```\n",
    "\n",
    "* Cyklus prochází objekt `iter` prvek za prvkem a postupně tyto prvky přiřazuje do `jméno`.\n",
    "* Objekt `iter` musí být iterovatelný:\n",
    "    * seznamy\n",
    "    * n-tice\n",
    "    * řetězce\n",
    "    * slovníky\n",
    "    * generátory\n",
    "    * otevřené soubory\n"
   ]
  },
  {
   "cell_type": "code",
   "execution_count": null,
   "metadata": {},
   "outputs": [],
   "source": [
    "for prvek in seznam:\n",
    "    print(prvek)"
   ]
  },
  {
   "cell_type": "markdown",
   "metadata": {},
   "source": [
    "## Funkce `range`\n",
    "\n",
    "Vytvoří pomocný iterovatelný objekt pro procházení celými čísly v daném intervalu:\n",
    "* **`range(3)`** - čísla 0, 1, 2\n",
    "* **`range(1, 5)`** - čísla 1, 2, 3, 4\n",
    "* **`range(1, 9, 2)`** - čísla 1, 3, 5, 7\n",
    "\n",
    "Obecně `range(i, j, k)` vygeneruje čísla od `i` do `j-1` s krokem `k`."
   ]
  },
  {
   "cell_type": "code",
   "execution_count": null,
   "metadata": {},
   "outputs": [],
   "source": [
    "for prvek in range(3):\n",
    "    print(prvek)"
   ]
  },
  {
   "cell_type": "code",
   "execution_count": null,
   "metadata": {},
   "outputs": [],
   "source": [
    "for prvek in range(9, 1, -2):\n",
    "    print(prvek)"
   ]
  },
  {
   "cell_type": "code",
   "execution_count": null,
   "metadata": {},
   "outputs": [],
   "source": [
    "range(1, 9, 2)  # speciální objekt"
   ]
  },
  {
   "cell_type": "code",
   "execution_count": null,
   "metadata": {},
   "outputs": [],
   "source": [
    "list(range(1, 9, 2))  # převedení na seznam"
   ]
  },
  {
   "cell_type": "code",
   "execution_count": null,
   "metadata": {},
   "outputs": [],
   "source": [
    "seznam = [1, 2, 3]\n",
    "for idx in range(len(seznam)):\n",
    "    print(seznam[idx])"
   ]
  },
  {
   "cell_type": "code",
   "execution_count": null,
   "metadata": {},
   "outputs": [],
   "source": [
    "for prvek in seznam:\n",
    "    print(prvek)"
   ]
  },
  {
   "cell_type": "markdown",
   "metadata": {},
   "source": [
    "## Funkce `enumerate`\n",
    "\n",
    "Často je třeba k prvku seznamu mít i jeho index:"
   ]
  },
  {
   "cell_type": "code",
   "execution_count": null,
   "metadata": {},
   "outputs": [],
   "source": [
    "seznam = [1, 2, 3]\n",
    "index = 0\n",
    "while index < len(seznam):\n",
    "    print(index, seznam[index])\n",
    "    seznam[index] = seznam[index] * 10\n",
    "    index += 1\n",
    "print(seznam)"
   ]
  },
  {
   "cell_type": "markdown",
   "metadata": {},
   "source": [
    "Funkce `enumerate` vrací dvojice `(index, prvek)` použitelné ve `for`-cyklu"
   ]
  },
  {
   "cell_type": "code",
   "execution_count": null,
   "metadata": {},
   "outputs": [],
   "source": [
    "seznam = [1, 2, 3]\n",
    "for index, prvek in enumerate(seznam):\n",
    "    print(index, prvek)\n",
    "    seznam[index] *= 10\n",
    "print(seznam)"
   ]
  },
  {
   "cell_type": "markdown",
   "metadata": {},
   "source": [
    "## Funkce `zip`\n",
    "\n",
    "Vytvoří ze dvou seznamů jeden seznam dvojic (funguje jako zip na bundě):"
   ]
  },
  {
   "cell_type": "code",
   "execution_count": null,
   "metadata": {},
   "outputs": [],
   "source": [
    "seznam1 = [\"a\", \"b\", \"c\"]\n",
    "seznam2 = [1, 5, 9, 4]\n",
    "\n",
    "for znak, cislo in zip(seznam1, seznam2):\n",
    "    print(znak, cislo)\n",
    "    \n",
    "# Ukončí se po skončení nejkratšího seznamu"
   ]
  },
  {
   "cell_type": "code",
   "execution_count": null,
   "metadata": {},
   "outputs": [],
   "source": [
    "seznam3 = [True, False, True]  # zip() lze použít i pro více seznam/posloupností\n",
    "for znak, cislo, tisknout in zip(seznam1, seznam2, seznam3):\n",
    "    if tisknout:\n",
    "        print(znak, cislo)\n"
   ]
  },
  {
   "cell_type": "code",
   "execution_count": null,
   "metadata": {},
   "outputs": [],
   "source": [
    "seznam = \"abcdefg\"\n",
    "\n",
    "list(zip(seznam[0::], seznam[1::]))"
   ]
  },
  {
   "cell_type": "markdown",
   "metadata": {},
   "source": [
    "# Funkce\n",
    "\n",
    "* Zapouzdřují určitou (opakovatelnou) funkcionalitu\n",
    "* Funkcionalita vykonává činnost na základě **parametrů**\n",
    "* Výsledek je vrácen jako **návratová hodnota**\n",
    "* Funkci lze volat opakovaně a její stav je zvnějšku **neviditelný**\n",
    "* Funkce by neměla mít vedlejší efekty (side effects)\n",
    "    * Změna stavu programu jiná, než vrácení návratové hodnoty\n",
    "    * Příklady:\n",
    "        * Změna globální proměnné\n",
    "        * Změna proměnných datových objektů předaných v parametru\n",
    "        * Změna souborů ??\n",
    "\n",
    "Klíčové slovo `def` následované jménem funkce a seznamem parametrů:"
   ]
  },
  {
   "cell_type": "code",
   "execution_count": null,
   "metadata": {},
   "outputs": [],
   "source": [
    "def soucet(a, b):\n",
    "    return a + b"
   ]
  },
  {
   "cell_type": "code",
   "execution_count": null,
   "metadata": {},
   "outputs": [],
   "source": [
    "vysledek = soucet(1, 2)\n",
    "vysledek"
   ]
  },
  {
   "cell_type": "code",
   "execution_count": null,
   "metadata": {},
   "outputs": [],
   "source": [
    "def soucet_rozdil(a, b):\n",
    "    if a < b:\n",
    "        return None, None\n",
    "    \n",
    "    \n",
    "    adsf\n",
    "    asdf\n",
    "    \n",
    "    return a+b, a-b\n"
   ]
  },
  {
   "cell_type": "code",
   "execution_count": null,
   "metadata": {},
   "outputs": [],
   "source": [
    "x, y = soucet_rozdil(1, 2)"
   ]
  },
  {
   "cell_type": "markdown",
   "metadata": {},
   "source": [
    "## Návratová hodnota\n",
    "\n",
    "Příkaz `return` ukončí funkce a výraz za `return` se použije jako návratová hodnota.\n",
    "\n",
    "**Návratová hodnota** reprezentuje výsledek funkce.\n",
    "\n",
    "Samotný `return` vrátí výchozí hodnotu `None`. Stejně tak, pokud není `return` použitý a funkce doběhne na konec těla.\n",
    "\n",
    "## Parametry\n",
    "\n",
    "### Výchozí hodnoty\n",
    "\n",
    "Při definici funkce lze definovat některým parametrům **výchozí hodnoty**.\n",
    "\n",
    "Parametr, který má výchozí hodnotu nemusí být předán při volání funkce.\n",
    "\n",
    "Výchozí hodnoty je vhodné definovat jako **neměnné typy** (hodnota je sdílená napříč voláními funkce).\n",
    "\n",
    "Při volání můžeme předávat **pojmenované parametry** (specifikace konkrétního parametru).\n",
    "\n",
    "Platí, že nejprve se musít **nepojmenované (poziční) parametry**, následují **pojmenované parametry**, žádný z parametrů nesmí dostat hodnotu vícekrát."
   ]
  },
  {
   "cell_type": "code",
   "execution_count": null,
   "metadata": {},
   "outputs": [],
   "source": [
    "def matem(a, pricti=0, vynasob=1):\n",
    "    return (a+pricti)*vynasob"
   ]
  },
  {
   "cell_type": "code",
   "execution_count": null,
   "metadata": {},
   "outputs": [],
   "source": [
    "matem(a=3)\n",
    "# tez matem(a=3)"
   ]
  },
  {
   "cell_type": "code",
   "execution_count": null,
   "metadata": {},
   "outputs": [],
   "source": [
    "matem(3, pricti=1)\n",
    "# totez jako\n",
    "# matem(3, 1)\n",
    "# matem(a=3, pricti=1)"
   ]
  },
  {
   "cell_type": "code",
   "execution_count": null,
   "metadata": {},
   "outputs": [],
   "source": [
    "matem(3, vynasob=2)\n",
    "# matem(a=3, vynasob=2)"
   ]
  },
  {
   "cell_type": "code",
   "execution_count": null,
   "metadata": {},
   "outputs": [],
   "source": [
    "matem(3, vynasob=2, pricti=1)\n",
    "# lze tez jako\n",
    "# matem(a=3, pricti=1, vynasob=2)\n",
    "# matem(3, 1, 2)\n",
    "# matem(3, 1, vynasob=2)"
   ]
  },
  {
   "cell_type": "code",
   "execution_count": null,
   "metadata": {},
   "outputs": [],
   "source": [
    "# Chyba: hodnota parametru a předána vícekrát\n",
    "# matem(3, a=3)"
   ]
  },
  {
   "cell_type": "markdown",
   "metadata": {},
   "source": [
    "## Dokumentační řetězec\n",
    "\n",
    "První řetězcový literál ihned za hlavičkou funkce.\n",
    "\n",
    "Obsahuje dokumentaci funkce, zpracovávají je programy pro automatické generování dokumentace.\n",
    "\n",
    "https://www.python.org/dev/peps/pep-0257/"
   ]
  },
  {
   "cell_type": "code",
   "execution_count": null,
   "metadata": {},
   "outputs": [],
   "source": [
    "def matem(a, pricti=0, vynasob=1):\n",
    "    'Vezme číslo a ke kterému přičte parametr pricti a vysledek vynásobí parametrem vynasob'\n",
    "    return (a+pricti)*vynasob"
   ]
  },
  {
   "cell_type": "code",
   "execution_count": null,
   "metadata": {},
   "outputs": [],
   "source": [
    "matem"
   ]
  },
  {
   "cell_type": "markdown",
   "metadata": {},
   "source": [
    "## Globální jména\n",
    "\n",
    "Všechna jména objektů definovaná ve funkci jsou **lokální**.\n",
    "\n",
    "Globální jména objektů jsou přístupná **pouze pro čtení**, jméno vždy odkazuje na ten samý objekt. Je-li však objekt **proměnného datového typu**, lze změnit jeho obsah.\n",
    "\n",
    "Pro změnu globálního jména je možné definovat jméno ve funkci pomocí příkazu `global`.\n",
    "\n",
    "Pozor na globální jména, způsobují vedlejší efekty funkcí a vedou zpravidla na špagetový kód (https://en.wikipedia.org/wiki/Spaghetti_code)"
   ]
  },
  {
   "cell_type": "code",
   "execution_count": null,
   "metadata": {},
   "outputs": [],
   "source": [
    "g = 1\n",
    "seznam = [1, 2, 3]\n",
    "def vytiskni_g():\n",
    "    print(\"uvnitř je g:\", g, seznam)\n",
    "    seznam.append(5)\n",
    "    \n",
    "vytiskni_g()\n",
    "seznam"
   ]
  },
  {
   "cell_type": "code",
   "execution_count": null,
   "metadata": {},
   "outputs": [],
   "source": [
    "g = 1\n",
    "def zmen_g(nova):\n",
    "    g = nova\n",
    "    print(\"uvnitř je g:\", g)\n",
    "zmen_g(10)\n",
    "print(\"z venku je videt g:\", g)"
   ]
  },
  {
   "cell_type": "code",
   "execution_count": null,
   "metadata": {},
   "outputs": [],
   "source": [
    "g = 1\n",
    "def zmen_g(nova):\n",
    "    global g   # Definice g jako globální jméno\n",
    "    g = nova\n",
    "    print(\"uvnitř je g:\", g)\n",
    "zmen_g(10)\n",
    "print(\"z venku je videt g:\", g)"
   ]
  },
  {
   "cell_type": "code",
   "execution_count": null,
   "metadata": {},
   "outputs": [],
   "source": [
    "g = []\n",
    "def zmen_g(g, nova):\n",
    "    g.append(nova)  # g je globální objekt, neměníme cíl jména, pouze obsah samotného kontejneru\n",
    "    print(\"uvnitř je g:\", g)\n",
    "zmen_g(g, 10)\n",
    "print(\"z venku je videt g:\", g)\n",
    "zmen_g(g, 20)\n",
    "print(\"z venku je videt g:\", g)"
   ]
  },
  {
   "cell_type": "markdown",
   "metadata": {},
   "source": [
    "## Non-local jména\n",
    "\n",
    "Funkce lze libovolně zanořovat. Velice často se hodí při řazení, definici pomocných funkcí, dekorátory...\n",
    "\n",
    "Při potřebě změnit jméno v nadřazeném prostoru jmen, ale ne globálním, použije se klíčové slovo `nonlocal`."
   ]
  },
  {
   "cell_type": "code",
   "execution_count": null,
   "metadata": {},
   "outputs": [],
   "source": [
    "def vnejsi(nova):\n",
    "    g = 0\n",
    "    def vnitrni(nova):\n",
    "        g = nova\n",
    "        print(\"vnitrni.g\", g)\n",
    "    \n",
    "    print(\"vnejsi.g\", g)\n",
    "    vnitrni(nova+1)\n",
    "    print(\"vnejsi.g\", g)"
   ]
  },
  {
   "cell_type": "code",
   "execution_count": null,
   "metadata": {},
   "outputs": [],
   "source": [
    "vnejsi(10)"
   ]
  },
  {
   "cell_type": "code",
   "execution_count": null,
   "metadata": {},
   "outputs": [],
   "source": [
    "def vnejsi(nova):\n",
    "    g = 0\n",
    "    def vnitrni(nova):\n",
    "        nonlocal g\n",
    "        g = nova\n",
    "        print(\"vnitrni.g\", g)\n",
    "    \n",
    "    print(\"vnejsi.g\", g)\n",
    "    vnitrni(nova+1)\n",
    "    print(\"vnejsi.g\", g)"
   ]
  },
  {
   "cell_type": "code",
   "execution_count": null,
   "metadata": {},
   "outputs": [],
   "source": [
    "vnejsi(10)"
   ]
  },
  {
   "cell_type": "markdown",
   "metadata": {},
   "source": [
    "## Příklady vnořených funkcí"
   ]
  },
  {
   "cell_type": "code",
   "execution_count": null,
   "metadata": {},
   "outputs": [],
   "source": [
    "def tiskni(objekty, zpracovani=False):\n",
    "    i = 1\n",
    "    def print_muj(o):\n",
    "        if zpracovani:\n",
    "            print(i, \"<<\", o, \">>\")\n",
    "        else:\n",
    "            print(o)\n",
    "            \n",
    "    for o in objekty:\n",
    "        print_muj(o)"
   ]
  },
  {
   "cell_type": "code",
   "execution_count": null,
   "metadata": {},
   "outputs": [],
   "source": [
    "def serad_podle_abs(x, podle_abs=True):\n",
    "    def klic(hodnota):\n",
    "        \"Vraci klic jako absolutni hodnotu\"\n",
    "        return abs(hodnota)\n",
    "        \n",
    "    ret = list(x)\n",
    "    if podle_abs:\n",
    "        ret.sort(key=klic)\n",
    "    else:\n",
    "        ret.sort()\n",
    "    return ret\n",
    "    "
   ]
  },
  {
   "cell_type": "code",
   "execution_count": null,
   "metadata": {},
   "outputs": [],
   "source": [
    "serad_podle_abs([3, -5, 1, -2], podle_abs=True)"
   ]
  },
  {
   "cell_type": "code",
   "execution_count": null,
   "metadata": {},
   "outputs": [],
   "source": [
    "tiskni([1, 2, 3], zpracovani=False)"
   ]
  },
  {
   "cell_type": "code",
   "execution_count": null,
   "metadata": {},
   "outputs": [],
   "source": [
    "tiskni2 = tiskni  # funkce lze přiřazovat i jiným jménům, vytvoří se tak alias"
   ]
  },
  {
   "cell_type": "code",
   "execution_count": null,
   "metadata": {},
   "outputs": [],
   "source": [
    "tiskni is tiskni2"
   ]
  },
  {
   "cell_type": "code",
   "execution_count": null,
   "metadata": {},
   "outputs": [],
   "source": [
    "tiskni2([1, 2])"
   ]
  },
  {
   "cell_type": "code",
   "execution_count": null,
   "metadata": {},
   "outputs": [],
   "source": [
    "tiskni2.__qualname__   # jméno funkce (uložené v objektu) je ale pořád původní"
   ]
  }
 ],
 "metadata": {
  "kernelspec": {
   "display_name": "Python 3 (ipykernel)",
   "language": "python",
   "name": "python3"
  },
  "language_info": {
   "codemirror_mode": {
    "name": "ipython",
    "version": 3
   },
   "file_extension": ".py",
   "mimetype": "text/x-python",
   "name": "python",
   "nbconvert_exporter": "python",
   "pygments_lexer": "ipython3",
   "version": "3.12.6"
  }
 },
 "nbformat": 4,
 "nbformat_minor": 4
}
