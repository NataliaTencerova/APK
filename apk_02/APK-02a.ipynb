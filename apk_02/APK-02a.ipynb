{
 "cells": [
  {
   "cell_type": "markdown",
   "metadata": {},
   "source": [
    "# Instalace Python 3.12\n",
    "\n",
    "1. Python Miniconda https://docs.conda.io/en/latest/miniconda.html\n",
    "2. Otevřít command-line (Nabídka Start -> Anaconda Prompt) a spustit `conda install jupyter`\n",
    "3. Otevřít command-line (Nabídka Start -> Anaconda Prompt) a spustit `jupyter lab`"
   ]
  },
  {
   "cell_type": "markdown",
   "metadata": {},
   "source": [
    "# Jupyter\n",
    "\n",
    "* Interaktivní vývojové prostředí\n",
    "* Běží ve webovém prohlížeči"
   ]
  },
  {
   "cell_type": "markdown",
   "metadata": {},
   "source": [
    "# Google Colaboratory\n",
    "\n",
    "Sdílená instalace Jupyteru, dostupná z cloudu Google na: https://colab.research.google.com/"
   ]
  },
  {
   "cell_type": "markdown",
   "metadata": {},
   "source": [
    "# PyCharm\n",
    "\n",
    "Profesionální Python IDE: https://www.jetbrains.com/pycharm/"
   ]
  },
  {
   "cell_type": "markdown",
   "metadata": {},
   "source": [
    "# Python - začínáme\n",
    "\n",
    "Klíčové vlastnosti:\n",
    "* **vysokoúrovňový**\n",
    "    * Programovací jazyk vytváří abstraktní operační systém. Snaží se odstínit programátora od detailů (architektury počítače, operačního systému, komunikačních protokolů apod.)\n",
    "* **dynamicky typovaný jazyk**\n",
    "    * Proměnné není nutné definovat předem\n",
    "    * Nedefinuje se typ proměnných\n",
    "    * Proměnné odkazují na objekt (entita v prostředí jazyka) • Objekty jsou různých typů\n",
    "    * Program může získávat informace sám o sobě\n",
    "        * seznam objektů, seznam proměnných, typ objektů, operace podporované objekty\n",
    "* **interpretovaný a kompilující do bytekódu**\n",
    "    * Kód programu se nepřekládá do strojového kódu\n",
    "    * Program je překládán do kódu nezávislého na architektuře počítače (tzv. bytekód)\n",
    "    * Tento bytekód je interpretován virtuálním strojem jazyka\n",
    "* **odsazování programových bloků**\n",
    "    * V jiných jazycích - použití dvojice závorek např. { a } • Python používá odsazení od levého okraje\n",
    "    * mezery a tabulátory\n",
    "    * stejné odsazení - stejný blok\n",
    "    * pozor na míchání mezer a tabulátorů • standardní odsazení 4 mezery\n",
    "    * Příklad\n",
    "```    \n",
    "> sum = 0\n",
    "> for i in range(10):\n",
    ">    sum += i\n",
    ">    print(i, sum)\n",
    "```\n",
    "* **přenositelný, integrovatelný do jiných prostředí, široce používaný**"
   ]
  },
  {
   "cell_type": "markdown",
   "metadata": {},
   "source": [
    "# Dokumentační zdroje pro Python\n",
    "\n",
    "* Dokumentace jazyka Python https://docs.python.org/3.7/, ENG\n",
    "* Rozcestník Učíme se Python https://python.cz/zacatecnici/\n",
    "* Srazy Plzeňské Pyvo https://pyvo.cz/plzen-pyvo/\n",
    "* Python for beginners (Microsoft) https://www.youtube.com/playlist?list=PLlrxD0HtieHhS8VzuMCfQD4uJ9yne1mE6 "
   ]
  },
  {
   "cell_type": "markdown",
   "metadata": {},
   "source": [
    "# Datové typy jazyka Python\n",
    "\n",
    "# Číselné datové typy"
   ]
  },
  {
   "cell_type": "markdown",
   "metadata": {},
   "source": [
    "## Celá čísla `int`\n",
    "### Podporované operace"
   ]
  },
  {
   "cell_type": "code",
   "execution_count": null,
   "metadata": {},
   "outputs": [],
   "source": [
    "(1+1)*4+43"
   ]
  },
  {
   "cell_type": "code",
   "execution_count": null,
   "metadata": {
    "tags": []
   },
   "outputs": [],
   "source": [
    "2"
   ]
  },
  {
   "cell_type": "code",
   "execution_count": null,
   "metadata": {},
   "outputs": [],
   "source": [
    "5 ** 4  # Mocnina"
   ]
  },
  {
   "cell_type": "code",
   "execution_count": null,
   "metadata": {},
   "outputs": [],
   "source": [
    "7 / 3 * 3 # Float-dělení"
   ]
  },
  {
   "cell_type": "code",
   "execution_count": null,
   "metadata": {},
   "outputs": [],
   "source": [
    "7 // 3  # Celočíselné dělení"
   ]
  },
  {
   "cell_type": "code",
   "execution_count": null,
   "metadata": {},
   "outputs": [],
   "source": [
    "7 % 3  # Zbytek po dělení"
   ]
  },
  {
   "cell_type": "code",
   "execution_count": null,
   "metadata": {},
   "outputs": [],
   "source": [
    "7 / 3 * 3  # POZOR: Výsledek je float"
   ]
  },
  {
   "cell_type": "code",
   "execution_count": null,
   "metadata": {},
   "outputs": [],
   "source": [
    "7 // 3 * 3  # POZOR: Ztráta při celočíselném dělení"
   ]
  },
  {
   "cell_type": "markdown",
   "metadata": {},
   "source": [
    "### Dlouhá celá čísla\n",
    "\n",
    "* Automatická konverze z celých čísel při změně rozsahu\n",
    "* Práce stejná jako s celými čísly\n",
    "* Dynamické alokování potřebné paměti"
   ]
  },
  {
   "cell_type": "code",
   "execution_count": null,
   "metadata": {},
   "outputs": [],
   "source": [
    "def fact(n):\n",
    "    if n == 1:\n",
    "        return 1\n",
    "    else:\n",
    "        return n*fact(n-1)"
   ]
  },
  {
   "cell_type": "code",
   "execution_count": null,
   "metadata": {},
   "outputs": [],
   "source": [
    "fact(6)"
   ]
  },
  {
   "cell_type": "code",
   "execution_count": null,
   "metadata": {
    "tags": []
   },
   "outputs": [],
   "source": [
    "fact(1000)"
   ]
  },
  {
   "cell_type": "markdown",
   "metadata": {},
   "source": [
    "### Jiné zápisy celých čísel"
   ]
  },
  {
   "cell_type": "code",
   "execution_count": null,
   "metadata": {},
   "outputs": [],
   "source": [
    "0o777  # osmičkový (oktální)"
   ]
  },
  {
   "cell_type": "code",
   "execution_count": null,
   "metadata": {},
   "outputs": [],
   "source": [
    "0x1abc  # hexadecimální"
   ]
  },
  {
   "cell_type": "code",
   "execution_count": null,
   "metadata": {},
   "outputs": [],
   "source": [
    "0b10100101  # binární"
   ]
  },
  {
   "cell_type": "markdown",
   "metadata": {},
   "source": [
    "## Čísla s plovoucí řádovou čárkou `float` a komplexní čísla `complex`"
   ]
  },
  {
   "cell_type": "code",
   "execution_count": null,
   "metadata": {},
   "outputs": [],
   "source": [
    "2.5 * 3"
   ]
  },
  {
   "cell_type": "code",
   "execution_count": null,
   "metadata": {},
   "outputs": [],
   "source": [
    "1.3e2  # zápis mantisa + exponent  1.3*10**2"
   ]
  },
  {
   "cell_type": "code",
   "execution_count": null,
   "metadata": {
    "tags": []
   },
   "outputs": [],
   "source": [
    "1+2j # komplexní číslo"
   ]
  },
  {
   "cell_type": "code",
   "execution_count": null,
   "metadata": {},
   "outputs": [],
   "source": [
    "(1+2j) * (2+3j)  # počítání s komplexními čísly"
   ]
  },
  {
   "cell_type": "code",
   "execution_count": null,
   "metadata": {},
   "outputs": [],
   "source": [
    "int(5.6)  # přetypování z intu"
   ]
  },
  {
   "cell_type": "code",
   "execution_count": null,
   "metadata": {
    "tags": []
   },
   "outputs": [],
   "source": [
    "round(5.6)"
   ]
  },
  {
   "cell_type": "code",
   "execution_count": null,
   "metadata": {},
   "outputs": [],
   "source": [
    "float(\"4.56\")  # přetypování z řetězce"
   ]
  },
  {
   "cell_type": "code",
   "execution_count": null,
   "metadata": {},
   "outputs": [],
   "source": [
    "complex(5, 6)  # reálná, imaginární"
   ]
  },
  {
   "cell_type": "markdown",
   "metadata": {},
   "source": [
    "### Problémy s float čísly\n",
    "\n",
    "* nejedná se o reálná čísla, ale o aproximaci\n",
    "* zlomek 1/3 v desetinné soustavě: 0.3333333...\n",
    "* zlomek 1/10 ve dvojkové soustavě: b0.000110011... = 0.099609375"
   ]
  },
  {
   "cell_type": "markdown",
   "metadata": {},
   "source": [
    "#### Součet řady"
   ]
  },
  {
   "cell_type": "code",
   "execution_count": null,
   "metadata": {},
   "outputs": [],
   "source": [
    "N = 100\n",
    "suma = 0.0\n",
    "for i in range(N):\n",
    "    suma += 0.1\n",
    "suma"
   ]
  },
  {
   "cell_type": "code",
   "execution_count": null,
   "metadata": {},
   "outputs": [],
   "source": [
    "suma / N"
   ]
  },
  {
   "cell_type": "code",
   "execution_count": null,
   "metadata": {},
   "outputs": [],
   "source": [
    "0.1 == suma / N"
   ]
  },
  {
   "cell_type": "markdown",
   "metadata": {},
   "source": [
    "#### Sčítání/odčítání velkého a malého čísla"
   ]
  },
  {
   "cell_type": "code",
   "execution_count": null,
   "metadata": {},
   "outputs": [],
   "source": [
    "1e10 + 0.1 - 1e10"
   ]
  },
  {
   "cell_type": "code",
   "execution_count": null,
   "metadata": {},
   "outputs": [],
   "source": [
    "1e12 + 0.1 - 1e12"
   ]
  },
  {
   "cell_type": "code",
   "execution_count": null,
   "metadata": {},
   "outputs": [],
   "source": [
    "1e14 + 0.1 - 1e14"
   ]
  },
  {
   "cell_type": "code",
   "execution_count": null,
   "metadata": {},
   "outputs": [],
   "source": [
    "a = 1e16 + 0.1 - 1e16\n",
    "b = 1 + 0.1 - 1"
   ]
  },
  {
   "cell_type": "code",
   "execution_count": null,
   "metadata": {},
   "outputs": [],
   "source": [
    "print(\"ahoj\")"
   ]
  },
  {
   "cell_type": "markdown",
   "metadata": {},
   "source": [
    "## Přiřazení a funkce `print` "
   ]
  },
  {
   "cell_type": "code",
   "execution_count": null,
   "metadata": {},
   "outputs": [],
   "source": [
    "x = y = 0"
   ]
  },
  {
   "cell_type": "code",
   "execution_count": null,
   "metadata": {
    "tags": []
   },
   "outputs": [],
   "source": [
    "y"
   ]
  },
  {
   "cell_type": "code",
   "execution_count": null,
   "metadata": {},
   "outputs": [],
   "source": [
    "cislo1 = 7\n",
    "cislo2 = 5\n",
    "vysledek = cislo1 * 2 + cislo2\n",
    "print(cislo1)\n",
    "print(cislo2)"
   ]
  },
  {
   "cell_type": "code",
   "execution_count": null,
   "metadata": {},
   "outputs": [],
   "source": [
    "vysledek = cislo1 * 2 + cislo2\n",
    "vysledek  # Jupyter notebook zobrazí hodnotu v poli Out"
   ]
  },
  {
   "cell_type": "code",
   "execution_count": null,
   "metadata": {},
   "outputs": [],
   "source": [
    "print(vysledek)  # Hodnota se vypíše na standardní výstup"
   ]
  },
  {
   "cell_type": "code",
   "execution_count": null,
   "metadata": {},
   "outputs": [],
   "source": [
    "print(\"vstup:\", cislo1, \"a\", cislo2, \"vysledek:\", vysledek)  # Lze zobrazit více hodnot"
   ]
  },
  {
   "cell_type": "code",
   "execution_count": null,
   "metadata": {},
   "outputs": [],
   "source": [
    "print(\"vstup:\", cislo1, \"a\", cislo2)\n",
    "print(\"vysledek:\", vysledek)  # Lze zobrazit více hodnot"
   ]
  },
  {
   "cell_type": "code",
   "execution_count": null,
   "metadata": {},
   "outputs": [],
   "source": [
    "print(\"vstup:\", cislo1, \"a\", cislo2, \"vysledek:\", vysledek, sep=\" -- \", end=\"AHOJ\")  # Lze urcit oddelovač a ukončovač"
   ]
  },
  {
   "cell_type": "markdown",
   "metadata": {},
   "source": [
    "## Metody a atributy\n",
    "\n",
    "* Mnoho objektů má různé **atributy**\n",
    "* Přístup pomocí **tečkové notace** (dot notation)\n",
    "    * obj.atrib1.atrib2\n",
    "* Atributy obsahují dílčí hodnoty objektu\n",
    "* Dále může objekt obsahovat **metody**\n",
    "    * metody lze volat jako funkce, ale metoda zpřístupněna pomocí tečkové notace\n",
    "    * metoda modifikuje / využívá původní objekt\n"
   ]
  },
  {
   "cell_type": "code",
   "execution_count": null,
   "metadata": {},
   "outputs": [],
   "source": [
    "x = 1+2j"
   ]
  },
  {
   "cell_type": "code",
   "execution_count": null,
   "metadata": {},
   "outputs": [],
   "source": [
    "x.real # atribut - reálná složka"
   ]
  },
  {
   "cell_type": "code",
   "execution_count": null,
   "metadata": {},
   "outputs": [],
   "source": [
    "x.imag  # atribut - imaginární složka"
   ]
  },
  {
   "cell_type": "code",
   "execution_count": null,
   "metadata": {},
   "outputs": [],
   "source": [
    "x.conjugate()  # metoda - komplexně sdružené číslo"
   ]
  },
  {
   "cell_type": "markdown",
   "metadata": {},
   "source": [
    "## Řetězce `str`\n",
    "\n",
    "### Zápis"
   ]
  },
  {
   "cell_type": "code",
   "execution_count": null,
   "metadata": {},
   "outputs": [],
   "source": [
    "\"řetězec\""
   ]
  },
  {
   "cell_type": "code",
   "execution_count": null,
   "metadata": {},
   "outputs": [],
   "source": [
    "'řetězec'"
   ]
  },
  {
   "cell_type": "code",
   "execution_count": null,
   "metadata": {},
   "outputs": [],
   "source": [
    "x = \"\"\"<html><b>víceřádkový\n",
    "řetězec</b>\n",
    "</html>\n",
    "\"\"\""
   ]
  },
  {
   "cell_type": "code",
   "execution_count": null,
   "metadata": {},
   "outputs": [],
   "source": [
    "print(x)"
   ]
  },
  {
   "cell_type": "markdown",
   "metadata": {},
   "source": [
    "### Escape posloupnosti"
   ]
  },
  {
   "cell_type": "code",
   "execution_count": null,
   "metadata": {},
   "outputs": [],
   "source": [
    "\"nový řádek:\\n tabulátor:\\t zpětné lomítko:\\\\ unicode znak:\\U0001F60B \\U00002A2F\""
   ]
  },
  {
   "cell_type": "code",
   "execution_count": null,
   "metadata": {},
   "outputs": [],
   "source": [
    "text = \"nový řádek:\\n tabulátor:\\t zpětné lomítko:\\\\ unicode znak:\\U0001F60B\"\n",
    "print(text)"
   ]
  },
  {
   "cell_type": "code",
   "execution_count": null,
   "metadata": {},
   "outputs": [],
   "source": [
    "x = input(\"Zadejte vstup:\")\n",
    "print(x)"
   ]
  },
  {
   "cell_type": "markdown",
   "metadata": {},
   "source": [
    "### Operace s řetězci\n"
   ]
  },
  {
   "cell_type": "code",
   "execution_count": null,
   "metadata": {},
   "outputs": [],
   "source": [
    "\"1\" + \"2\"  # spojení, concatenation"
   ]
  },
  {
   "cell_type": "code",
   "execution_count": null,
   "metadata": {},
   "outputs": [],
   "source": [
    "print(\"ahoj\\n\"+\"=\" * 80)  # opakování"
   ]
  },
  {
   "cell_type": "markdown",
   "metadata": {},
   "source": [
    "### Indexace a výřezy\n",
    "\n",
    "* **indexace** prvků\n",
    "    * indexace od nuly do délky-1\n",
    "* **výřez** podposloupnosti [od:do]\n",
    "    * výřez pomocí čísel hranic mezi prvky\n",
    "* možno použít záporné indexy\n",
    "* u výřezů je možné vynechat meze\n",
    "* **řetězce jsou neměnné**\n",
    "    * nelze např. odstranit znaky od 3. do 5. znaku"
   ]
  },
  {
   "cell_type": "code",
   "execution_count": null,
   "metadata": {},
   "outputs": [],
   "source": [
    "a = \"řetězec\""
   ]
  },
  {
   "cell_type": "code",
   "execution_count": null,
   "metadata": {},
   "outputs": [],
   "source": [
    "len(a)  # délka řetězce"
   ]
  },
  {
   "cell_type": "code",
   "execution_count": null,
   "metadata": {},
   "outputs": [],
   "source": [
    "a[1]  # druhý prvek (indexace od 0)"
   ]
  },
  {
   "cell_type": "code",
   "execution_count": null,
   "metadata": {},
   "outputs": [],
   "source": [
    "a[-1]  # poslední prvek"
   ]
  },
  {
   "cell_type": "code",
   "execution_count": null,
   "metadata": {},
   "outputs": [],
   "source": [
    "a[2:4]  # vše následující po druhém prvku do čtvrtého včetně"
   ]
  },
  {
   "cell_type": "code",
   "execution_count": null,
   "metadata": {},
   "outputs": [],
   "source": [
    "a[2:-1]"
   ]
  },
  {
   "cell_type": "code",
   "execution_count": null,
   "metadata": {},
   "outputs": [],
   "source": [
    "a[::2]"
   ]
  },
  {
   "cell_type": "code",
   "execution_count": null,
   "metadata": {},
   "outputs": [],
   "source": [
    "#  a[9] #--> IndexError"
   ]
  },
  {
   "cell_type": "code",
   "execution_count": null,
   "metadata": {},
   "outputs": [],
   "source": [
    "a[2:]  # vše od druhého dál"
   ]
  },
  {
   "cell_type": "code",
   "execution_count": null,
   "metadata": {},
   "outputs": [],
   "source": [
    "a[:-1]  # vše až na poslední prvek"
   ]
  },
  {
   "cell_type": "code",
   "execution_count": null,
   "metadata": {},
   "outputs": [],
   "source": [
    "a[:3] + a[5:]   # odstranění znaků od pozice 3 do pozice 5 pomocí spojování podřetězců"
   ]
  },
  {
   "cell_type": "markdown",
   "metadata": {},
   "source": [
    "#### Metody řetězců\n",
    "\n",
    "Protože jsou řetězce neměnné, vrací vždy nový objekt!"
   ]
  },
  {
   "cell_type": "code",
   "execution_count": null,
   "metadata": {},
   "outputs": [],
   "source": [
    "a.replace(\"ze\", \"XX\")"
   ]
  },
  {
   "cell_type": "code",
   "execution_count": null,
   "metadata": {},
   "outputs": [],
   "source": [
    "a.upper()  # na velká písmena"
   ]
  },
  {
   "cell_type": "code",
   "execution_count": null,
   "metadata": {},
   "outputs": [],
   "source": [
    "a.isalnum()  # kontrola, zda všechny znaky jsou písmena"
   ]
  },
  {
   "cell_type": "code",
   "execution_count": null,
   "metadata": {},
   "outputs": [],
   "source": [
    "a = \"slova;retezce;textu\"\n",
    "a.split(\";\")  # rozdělení řetězce podle znaku \";\""
   ]
  },
  {
   "cell_type": "code",
   "execution_count": null,
   "metadata": {},
   "outputs": [],
   "source": [
    "# a.<TAB≥ v Jupyteru pro TAB-Completion"
   ]
  },
  {
   "cell_type": "markdown",
   "metadata": {},
   "source": [
    "### Další zápisy řetězců\n",
    "\n",
    "#### Interpolovaný řetězec (prefix f)\n",
    "\n",
    "Pro vložení proměnných do daného místa v řetězci, proměnná je nejprve převedena na řetězec pomocí funkce `str`."
   ]
  },
  {
   "cell_type": "code",
   "execution_count": null,
   "metadata": {},
   "outputs": [],
   "source": [
    "cislo1 = fact(6)\n",
    "cislo2 = fact(10)\n",
    "\n",
    "print(f\"Faktorial šesti: {fact(6)}, faktoriál deseti: {cislo2}\")\n",
    "#print(x)"
   ]
  },
  {
   "cell_type": "markdown",
   "metadata": {},
   "source": [
    "#### Syrový řetězec  (prefix r)\n",
    "\n",
    "Neprovádí se interpretace escape sekvencí \\\\... , výhodné pro zápis regulárních výrazů."
   ]
  },
  {
   "cell_type": "code",
   "execution_count": null,
   "metadata": {},
   "outputs": [],
   "source": [
    "print(r\"nový řádek:\\n tabulátor:\\t zpětné lomítko:\\\\ unicode znak:\\U0001F4A9\")"
   ]
  },
  {
   "cell_type": "markdown",
   "metadata": {},
   "source": [
    "### Konverze řetězce do / z daného kódování\n",
    "\n",
    "* Kódování - tabulka přiřazující každému znaku posloupnost bytů, množství různých kódování (UTF-8, CP1250, ASCII).\n",
    "* Kódování zdrojového souboru: hlavička  `# coding: utf-8`\n",
    "* Důležité pro vstupně / výstupní operace (soubory, síť)"
   ]
  },
  {
   "cell_type": "code",
   "execution_count": null,
   "metadata": {},
   "outputs": [],
   "source": [
    "a = \"řetězec\"\n",
    "a.encode(\"utf-8\")  # výsledkem je posloupnost bytů"
   ]
  },
  {
   "cell_type": "code",
   "execution_count": null,
   "metadata": {},
   "outputs": [],
   "source": [
    "b = b'r\\xcc\\x8cete\\xcc\\x8czec'\n",
    "b.decode(\"utf-8\")  # obrácená konverze z posloupnosti bytů"
   ]
  },
  {
   "cell_type": "code",
   "execution_count": null,
   "metadata": {},
   "outputs": [],
   "source": [
    "b.decode(\"cp1250\")  # chybná konverze - kodek cp1250 neodpovídá způsobu, jak byla data zakódována"
   ]
  },
  {
   "cell_type": "markdown",
   "metadata": {},
   "source": [
    "### Konverze řetězec <--> číslo"
   ]
  },
  {
   "cell_type": "code",
   "execution_count": null,
   "metadata": {},
   "outputs": [],
   "source": [
    "vstup = input(\"Zadejte číslo: \")"
   ]
  },
  {
   "cell_type": "code",
   "execution_count": null,
   "metadata": {},
   "outputs": [],
   "source": [
    "type(vstup)  # funkce type() pro získání typu"
   ]
  },
  {
   "cell_type": "code",
   "execution_count": null,
   "metadata": {},
   "outputs": [],
   "source": [
    "vstup * 4   # místo násobení se provede opakování"
   ]
  },
  {
   "cell_type": "code",
   "execution_count": null,
   "metadata": {},
   "outputs": [],
   "source": [
    "int(vstup) * 4  # explicitní konverze na celé číslo, výsledek celé číslo"
   ]
  },
  {
   "cell_type": "code",
   "execution_count": null,
   "metadata": {},
   "outputs": [],
   "source": [
    "float(vstup) * 4  # explicitní konverze na float, výsledek float"
   ]
  },
  {
   "cell_type": "code",
   "execution_count": null,
   "metadata": {},
   "outputs": [],
   "source": [
    "vystup = int(vstup) * 4\n",
    "str(vystup)   # konverze int na řetězec"
   ]
  },
  {
   "cell_type": "markdown",
   "metadata": {},
   "source": [
    "# Kontejnerové datové typy\n",
    "\n",
    "Slouží k uchování dalších objektů:\n",
    "\n",
    "* **Seznamy** - seznam prvků, záleží na pořadí, seznam lze modifikovat bez nutnosti vytvářet nový objekt\n",
    "* **n-tice** - odlehčený seznam, nelze modifikovat\n",
    "* **Slovníky** (asociativní pole, hash) - zobrazení klíč –> hodnota, klíče jsou jedinečné a slouží k vyvolání odpovídající hodnoty\n",
    "* **Množiny** - množina prvků, nezáleží na pořadí, lze modifikovat"
   ]
  },
  {
   "cell_type": "markdown",
   "metadata": {},
   "source": [
    "## Seznamy (`[ ]`, `list`)\n",
    "\n",
    "* Zápis pomocí výčtu hodnot uvnitř hranatých závorek `[ ]`\n",
    "* Indexace a výřezy pomocí hranatých závorek jako u seznamů\n",
    "* **Proměnný (mutable) datový typ**, prvky lze měnit"
   ]
  },
  {
   "cell_type": "code",
   "execution_count": null,
   "metadata": {},
   "outputs": [],
   "source": [
    "seznam = [1, 2, 3, 4, \"řetezec\"]"
   ]
  },
  {
   "cell_type": "code",
   "execution_count": null,
   "metadata": {},
   "outputs": [],
   "source": [
    "seznam"
   ]
  },
  {
   "cell_type": "code",
   "execution_count": null,
   "metadata": {},
   "outputs": [],
   "source": [
    "seznam[-1]  # první prvek"
   ]
  },
  {
   "cell_type": "code",
   "execution_count": null,
   "metadata": {
    "tags": []
   },
   "outputs": [],
   "source": [
    "seznam[:-1]  # vše bez posledního prvku"
   ]
  },
  {
   "cell_type": "code",
   "execution_count": null,
   "metadata": {},
   "outputs": [],
   "source": [
    "seznam[3] = [1, 2, 3]"
   ]
  },
  {
   "cell_type": "code",
   "execution_count": null,
   "metadata": {},
   "outputs": [],
   "source": [
    "seznam   # upravený seznam"
   ]
  },
  {
   "cell_type": "code",
   "execution_count": null,
   "metadata": {},
   "outputs": [],
   "source": [
    "seznam[3][1]"
   ]
  },
  {
   "cell_type": "code",
   "execution_count": null,
   "metadata": {},
   "outputs": [],
   "source": [
    "len(seznam)  # délka seznamu  "
   ]
  },
  {
   "cell_type": "code",
   "execution_count": null,
   "metadata": {},
   "outputs": [],
   "source": [
    "seznam[-1]  # poslední prvek"
   ]
  },
  {
   "cell_type": "code",
   "execution_count": null,
   "metadata": {},
   "outputs": [],
   "source": [
    "seznam[1:3]  # 2. a 3. prvek"
   ]
  },
  {
   "cell_type": "code",
   "execution_count": null,
   "metadata": {},
   "outputs": [],
   "source": [
    "seznam[1:3] = [30, 40, 50]"
   ]
  },
  {
   "cell_type": "code",
   "execution_count": null,
   "metadata": {},
   "outputs": [],
   "source": [
    "seznam"
   ]
  },
  {
   "cell_type": "code",
   "execution_count": null,
   "metadata": {},
   "outputs": [],
   "source": [
    "del seznam[1:3]  # odstranění 2. a 3. prvku\n",
    "seznam"
   ]
  },
  {
   "cell_type": "markdown",
   "metadata": {},
   "source": [
    "#### Metody seznamů"
   ]
  },
  {
   "cell_type": "code",
   "execution_count": null,
   "metadata": {},
   "outputs": [],
   "source": [
    "seznam.append(4)  # připojení prvku na konec"
   ]
  },
  {
   "cell_type": "code",
   "execution_count": null,
   "metadata": {},
   "outputs": [],
   "source": [
    "seznam.insert(1, 6)  # vložení prvku na index 1"
   ]
  },
  {
   "cell_type": "code",
   "execution_count": null,
   "metadata": {},
   "outputs": [],
   "source": [
    "seznam.extend([7, 8, 9])  # rozšíření seznamu jiným seznamem"
   ]
  },
  {
   "cell_type": "code",
   "execution_count": null,
   "metadata": {
    "scrolled": true
   },
   "outputs": [],
   "source": [
    "seznam.remove(8)  # odstranění prvku zadaného hodnotou (ne indexem)\n",
    "seznam"
   ]
  },
  {
   "cell_type": "code",
   "execution_count": null,
   "metadata": {},
   "outputs": [],
   "source": [
    "seznam = [1, 6, 50, 4, 7, 9]"
   ]
  },
  {
   "cell_type": "code",
   "execution_count": null,
   "metadata": {},
   "outputs": [],
   "source": [
    "seznam.sort(reverse=True)"
   ]
  },
  {
   "cell_type": "code",
   "execution_count": null,
   "metadata": {
    "tags": []
   },
   "outputs": [],
   "source": [
    "seznam"
   ]
  },
  {
   "cell_type": "markdown",
   "metadata": {},
   "source": [
    "## n-tice (`( )`, `tuple`)\n",
    "\n",
    "* Zápis pomocí výčtu hodnot uvnitř kulatých závorek `( )`\n",
    "* Indexace a výřezy\n",
    "* **Neměnný (immutable) datový typ**, prvky nelze měnit\n",
    "* Odlehčený seznam, tj. vektor hodnot"
   ]
  },
  {
   "cell_type": "code",
   "execution_count": null,
   "metadata": {},
   "outputs": [],
   "source": [
    "n = (1, 2, 3, 4, 5, 6)"
   ]
  },
  {
   "cell_type": "code",
   "execution_count": null,
   "metadata": {},
   "outputs": [],
   "source": [
    "n = 1, 2, 3, 4, 5, 6   # je-li jednoznačné, lze závorky vynechat"
   ]
  },
  {
   "cell_type": "code",
   "execution_count": null,
   "metadata": {},
   "outputs": [],
   "source": [
    "n"
   ]
  },
  {
   "cell_type": "code",
   "execution_count": null,
   "metadata": {},
   "outputs": [],
   "source": [
    "pi = 3,14   # pozor při kopírování dat mimo Python (místo čárky má být tečka)"
   ]
  },
  {
   "cell_type": "code",
   "execution_count": null,
   "metadata": {},
   "outputs": [],
   "source": [
    "pi"
   ]
  },
  {
   "cell_type": "code",
   "execution_count": null,
   "metadata": {},
   "outputs": [],
   "source": [
    "x = 1\n",
    "y = 2\n",
    "x, y = y, x\n",
    "print(x, y)"
   ]
  },
  {
   "cell_type": "markdown",
   "metadata": {},
   "source": [
    "#### Přetypování tuple <--> list"
   ]
  },
  {
   "cell_type": "code",
   "execution_count": null,
   "metadata": {},
   "outputs": [],
   "source": [
    "x = [1, 2, 3]\n",
    "y = tuple(x)  # konverze ze seznamu na tuple\n",
    "z = list(x)   # konverze z tuple na seznam\n",
    "#z = x"
   ]
  },
  {
   "cell_type": "code",
   "execution_count": null,
   "metadata": {},
   "outputs": [],
   "source": [
    "y"
   ]
  },
  {
   "cell_type": "code",
   "execution_count": null,
   "metadata": {},
   "outputs": [],
   "source": [
    "z  # toto je KOPIE původního x!"
   ]
  },
  {
   "cell_type": "code",
   "execution_count": null,
   "metadata": {},
   "outputs": [],
   "source": [
    "x == z  # je to kopie a má stejný obsah"
   ]
  },
  {
   "cell_type": "code",
   "execution_count": null,
   "metadata": {},
   "outputs": [],
   "source": [
    "z.append(4)  # kopii lze ale změnit, nyní již stejné nebudou"
   ]
  },
  {
   "cell_type": "code",
   "execution_count": null,
   "metadata": {},
   "outputs": [],
   "source": [
    "x == z"
   ]
  },
  {
   "cell_type": "code",
   "execution_count": null,
   "metadata": {},
   "outputs": [],
   "source": [
    "x"
   ]
  },
  {
   "cell_type": "code",
   "execution_count": null,
   "metadata": {},
   "outputs": [],
   "source": [
    "z"
   ]
  },
  {
   "cell_type": "code",
   "execution_count": null,
   "metadata": {
    "tags": []
   },
   "outputs": [],
   "source": [
    "z.remove(4)"
   ]
  },
  {
   "cell_type": "markdown",
   "metadata": {},
   "source": [
    "# Proměnné a neměnné datové typu\n",
    "\n",
    "Existují dvě velké skupiny datových typů\n",
    "\n",
    "* **Neměnné** - jednou vytvořený objekt nelze již změnit, pokud jsou si dva neměnné objekty rovny, je tomu tak navždy, místo změny se musí vytvořit nový objekt na základě původního (spojování řetězců)\n",
    "     * řetězce, čísla, n-tice\n",
    "* **Proměnné** - objekt lze modifikovat v čase (typicky přidávat a odebírat prvky), změny probíhájí na exitujícím objektu (odstranění nebo přidání prvků)\n",
    "     * seznamy, slovníky, množiny\n",
    "     \n",
    "Důsledky pro použití:\n",
    "* **Klíče slovníků** musí být neměnné\n",
    "* **Volání funkce** nemůže změnit hodnotu neměnného datového typu\n",
    "* **Porovnávání** dvou neměnných typů v jeden okamžik a v jiný okamžik dopadne vždy totožně"
   ]
  },
  {
   "cell_type": "code",
   "execution_count": null,
   "metadata": {},
   "outputs": [],
   "source": [
    "# Neměnné typy\n",
    "#x = \"ahoj\"\n",
    "#x = 1+2j\n",
    "x = (1, 2, 3) \n",
    "#x = (1, \"ahoj\", 3)\n",
    "#x = (1, (1, 2), 3)\n",
    "hash(x)"
   ]
  },
  {
   "cell_type": "code",
   "execution_count": null,
   "metadata": {},
   "outputs": [],
   "source": [
    "# Proměnné typy\n",
    "x = [1, 2, 3]\n",
    "#x = (1, 2, (3, 4))  # vnořený seznam, proměnný\n",
    "# hash(x)  # --> TypeError pro proměnné typy nelze spočítat hash()"
   ]
  },
  {
   "cell_type": "markdown",
   "metadata": {},
   "source": [
    "## Slovníky (`{}`, `dict`)\n",
    "\n",
    "* “Pole indexované pomocí klíčů” (klíč musí být něměnný typ)\n",
    "* Zápis dvojic `klíč : hodnota` do složených závorek `{ }`\n",
    "* Podporované operace: přiřazení hodnoty klíči, získání hodnoty klíče\n",
    "* Získání počtu prvků: funkce `len()`"
   ]
  },
  {
   "cell_type": "code",
   "execution_count": null,
   "metadata": {},
   "outputs": [],
   "source": [
    "slovnik = {1: \"jedna\", 2: \"dva\"}"
   ]
  },
  {
   "cell_type": "code",
   "execution_count": null,
   "metadata": {},
   "outputs": [],
   "source": [
    "slovnik[1]  # vyvolání prvku pod klíčem 1"
   ]
  },
  {
   "cell_type": "code",
   "execution_count": null,
   "metadata": {},
   "outputs": [],
   "source": [
    "slovnik[3] = \"tři\"  # uložení nového prvku pod klíč 3\n",
    "slovnik"
   ]
  },
  {
   "cell_type": "code",
   "execution_count": null,
   "metadata": {},
   "outputs": [],
   "source": [
    "slovnik[\"tři\"] = 3  # klíče slovníku mohou být nehomogenní\n",
    "slovnik"
   ]
  },
  {
   "cell_type": "code",
   "execution_count": null,
   "metadata": {},
   "outputs": [],
   "source": [
    "len(slovnik)"
   ]
  },
  {
   "cell_type": "markdown",
   "metadata": {},
   "source": [
    "#### Metody slovníku"
   ]
  },
  {
   "cell_type": "code",
   "execution_count": null,
   "metadata": {},
   "outputs": [],
   "source": [
    "slovnik.keys()  # všechny klíče"
   ]
  },
  {
   "cell_type": "code",
   "execution_count": null,
   "metadata": {},
   "outputs": [],
   "source": [
    "slovnik.values()  # všechny hodnoty"
   ]
  },
  {
   "cell_type": "code",
   "execution_count": null,
   "metadata": {},
   "outputs": [],
   "source": [
    "slovnik.get(3, \"není\")  # získání hodnoty, pokud neexistuje, vrátí se druhý parameter"
   ]
  },
  {
   "cell_type": "code",
   "execution_count": null,
   "metadata": {},
   "outputs": [],
   "source": [
    "slovnik.copy()  # vytvoření kopie (mělké) slovníku"
   ]
  },
  {
   "cell_type": "code",
   "execution_count": null,
   "metadata": {},
   "outputs": [],
   "source": [
    "slovnik[(1, 2)] = 1\n"
   ]
  },
  {
   "cell_type": "code",
   "execution_count": null,
   "metadata": {},
   "outputs": [],
   "source": [
    "slovnik\n"
   ]
  },
  {
   "cell_type": "markdown",
   "metadata": {},
   "source": [
    "# Speciální objekty\n",
    "\n",
    "## None\n",
    "\n",
    "Obdoba NULL apod. pro všeobecné použití (neexistující hodnota, nepředaný parametr)"
   ]
  },
  {
   "cell_type": "code",
   "execution_count": null,
   "metadata": {},
   "outputs": [],
   "source": [
    "value = slovnik.get(4)\n",
    "print(value)"
   ]
  },
  {
   "cell_type": "markdown",
   "metadata": {},
   "source": [
    "Pozor, Jupyter hodnotu None nevypisuje, pokud jej požádáte o implicitní výpis do pole Out:"
   ]
  },
  {
   "cell_type": "code",
   "execution_count": null,
   "metadata": {},
   "outputs": [],
   "source": [
    "value"
   ]
  },
  {
   "cell_type": "markdown",
   "metadata": {},
   "source": [
    "## True, False\n",
    "\n",
    "Hodnoty pro logickou pravdu / nepravdu"
   ]
  },
  {
   "cell_type": "code",
   "execution_count": null,
   "metadata": {},
   "outputs": [],
   "source": [
    "1 == 1"
   ]
  },
  {
   "cell_type": "code",
   "execution_count": null,
   "metadata": {},
   "outputs": [],
   "source": [
    "5 == []"
   ]
  },
  {
   "cell_type": "code",
   "execution_count": null,
   "metadata": {},
   "outputs": [],
   "source": [
    "a = [1, 2, 3]\n",
    "b = [1, 2, 3]\n",
    "\n",
    "a == b"
   ]
  },
  {
   "cell_type": "code",
   "execution_count": null,
   "metadata": {},
   "outputs": [],
   "source": [
    "b.append(4)\n",
    "a == b"
   ]
  },
  {
   "cell_type": "code",
   "execution_count": null,
   "metadata": {},
   "outputs": [],
   "source": [
    "c = (1, 2, 3)\n",
    "a == c"
   ]
  }
 ],
 "metadata": {
  "kernelspec": {
   "display_name": "Python 3 (ipykernel)",
   "language": "python",
   "name": "python3"
  },
  "language_info": {
   "codemirror_mode": {
    "name": "ipython",
    "version": 3
   },
   "file_extension": ".py",
   "mimetype": "text/x-python",
   "name": "python",
   "nbconvert_exporter": "python",
   "pygments_lexer": "ipython3",
   "version": "3.12.6"
  }
 },
 "nbformat": 4,
 "nbformat_minor": 4
}
