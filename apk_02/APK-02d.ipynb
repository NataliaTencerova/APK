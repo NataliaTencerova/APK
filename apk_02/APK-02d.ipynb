{
 "cells": [
  {
   "cell_type": "markdown",
   "metadata": {},
   "source": [
    "# Moduly\n",
    "\n",
    "## Vytvoření modulu\n",
    "\n",
    "V Jupyteru otevřete seznam souborů, klikněte na **New/Text file**, přejmenujte soubor na **apk.py** (kliknutí pravým tlačítkem na záhlaví tabu) a vložte následující obsah. Nezapomeňte ulož Ctrl+S:\n",
    "\n",
    "```\n",
    "# coding: utf-8\n",
    "\n",
    "def fact(n):\n",
    "    \"Vrátí faktoriál čísla n\"\n",
    "    if n == 1:\n",
    "        return 1\n",
    "    else:\n",
    "        return n*fact(n-1)\n",
    "\n",
    "def matem(a, pricti=0, vynasob=1):\n",
    "    'Vezme číslo a ke kterému přičte parametr pricti a vysledek vynásobí parametrem vynasob'\n",
    "    return (a+pricti)*vynasob\n",
    "```\n",
    "\n",
    "## Import modulu"
   ]
  },
  {
   "cell_type": "code",
   "execution_count": null,
   "metadata": {},
   "outputs": [],
   "source": [
    "import apk  # takto lze importovat vámi vytvořený modul"
   ]
  },
  {
   "cell_type": "code",
   "execution_count": null,
   "metadata": {},
   "outputs": [],
   "source": [
    "apk.fact(10)  # použití funkce z modulu"
   ]
  },
  {
   "cell_type": "code",
   "execution_count": null,
   "metadata": {},
   "outputs": [],
   "source": [
    "apk.fact#?#?"
   ]
  },
  {
   "cell_type": "code",
   "execution_count": null,
   "metadata": {},
   "outputs": [],
   "source": [
    "import apk as a  # použití aliasu (pro zkrácení nebo při konfliktu)\n",
    "a.fact(10)"
   ]
  },
  {
   "cell_type": "code",
   "execution_count": null,
   "metadata": {},
   "outputs": [],
   "source": [
    "import numpy as np  # Velice časté zkrácení při importu balíčku numpy na np, podobně datetime --> dt, pandas --> pd, matplotlib --> plt"
   ]
  },
  {
   "cell_type": "code",
   "execution_count": null,
   "metadata": {},
   "outputs": [],
   "source": [
    "from apk import fact, matem as apk_matem  # chceme používat pouze jednu nebo několik funkcí (lze opět použít alias)"
   ]
  },
  {
   "cell_type": "code",
   "execution_count": null,
   "metadata": {},
   "outputs": [],
   "source": [
    "fact(10)  # nyní lze použít funkci přímo bez tečkové notace"
   ]
  },
  {
   "cell_type": "code",
   "execution_count": null,
   "metadata": {},
   "outputs": [],
   "source": [
    "apk_matem(3, 10, 5)  # a funkce matem je přístupná jako apk_matem"
   ]
  },
  {
   "cell_type": "code",
   "execution_count": null,
   "metadata": {},
   "outputs": [],
   "source": [
    "import sys\n",
    "sys.path   # seznam cest, odkud se importují moduly (soubory .py), aktuální adresář jako první"
   ]
  },
  {
   "cell_type": "markdown",
   "metadata": {},
   "source": [
    "# Standardní funkce\n",
    "\n",
    "Dostupné bez importu jakéhokoli modulu"
   ]
  },
  {
   "cell_type": "code",
   "execution_count": null,
   "metadata": {},
   "outputs": [],
   "source": [
    "len(\"ahoj\")  # délka posloupnosti"
   ]
  },
  {
   "cell_type": "code",
   "execution_count": null,
   "metadata": {},
   "outputs": [],
   "source": [
    "min([1, 2, 3, 4])  # minimální hodnota"
   ]
  },
  {
   "cell_type": "code",
   "execution_count": null,
   "metadata": {},
   "outputs": [],
   "source": [
    "max([1, 2, 3, 4])  # maximální hodnota"
   ]
  },
  {
   "cell_type": "code",
   "execution_count": null,
   "metadata": {},
   "outputs": [],
   "source": [
    "sum([1, 2, 3, 4])  # součet prvků"
   ]
  },
  {
   "cell_type": "code",
   "execution_count": null,
   "metadata": {},
   "outputs": [],
   "source": [
    "x = [-1, 0, 1, 2, 3]\n",
    "positive = [i > 0 for i in x]  # list comprehension\n",
    "positive"
   ]
  },
  {
   "cell_type": "code",
   "execution_count": null,
   "metadata": {},
   "outputs": [],
   "source": [
    "all(positive)  # vrátí True, pokud všechny prvky v positive jsou True "
   ]
  },
  {
   "cell_type": "code",
   "execution_count": null,
   "metadata": {},
   "outputs": [],
   "source": [
    "any(positive) # vrátí True, pokud alespoň jeden prvek v positive jsou True "
   ]
  },
  {
   "cell_type": "markdown",
   "metadata": {},
   "source": [
    "# Vstup a výstup do souboru"
   ]
  },
  {
   "cell_type": "markdown",
   "metadata": {},
   "source": [
    "## Čtení souboru\n",
    "\n",
    "Funkce `open(fn, mode, encoding)`:\n",
    "* `fn` je jméno souboru\n",
    "* `mode` je mód otevření souboru\n",
    "    * \"r\" - pro čtení\n",
    "    * \"w\" - pro zápis\n",
    "* `encoding` je kódování souboru, při uvedení `encoding` se automaticky volají metody `encode()` a `decode`\n",
    "\n",
    "Příkaz `with` otevře soubor, objekt reprezentující otevřený soubor přiřadí do `fr` a při ukončení bloku `with` jej korektně zavře.\n",
    "\n",
    "Nejjednodušší je procházet otevřený soubor pomocí `for`-cyklu - otevřený soubor je iterovatelný a vrací jednotlivé řádky (včetně znaku `\\n`):"
   ]
  },
  {
   "cell_type": "code",
   "execution_count": null,
   "metadata": {},
   "outputs": [],
   "source": [
    "with open(\"apk.py\", \"r\", encoding=\"utf-8\") as fr:\n",
    "    for line in fr:\n",
    "        line = line.strip() # z řádku odstraníme bílé znaky\n",
    "        if \":\" in line:\n",
    "            # vytiskneme jen řádky s dvojtečkou\n",
    "            print(line)"
   ]
  },
  {
   "cell_type": "markdown",
   "metadata": {},
   "source": [
    "### Metody a atributy objektu otevřený soubor"
   ]
  },
  {
   "cell_type": "code",
   "execution_count": null,
   "metadata": {},
   "outputs": [],
   "source": [
    "with open(\"apk.py\", \"r\", encoding=\"utf-8\") as fr:\n",
    "    print(fr.mode)  # mód\n",
    "    print(fr.name)  # jméno souboru\n",
    "    print(fr.readline())  # přečte jednu řádku\n",
    "    print(fr.readlines())  # přečte všechny řádky, vrátí seznam stringů"
   ]
  },
  {
   "cell_type": "markdown",
   "metadata": {},
   "source": [
    "## Zápis souboru"
   ]
  },
  {
   "cell_type": "code",
   "execution_count": null,
   "metadata": {},
   "outputs": [],
   "source": [
    "with open(\"test.txt\", \"w\", encoding=\"utf-8\") as fw:\n",
    "    fw.write(\"Toto je jeden řádek\\n\")\n",
    "    print(\"Také lze použít print\", file=fw)"
   ]
  },
  {
   "cell_type": "markdown",
   "metadata": {},
   "source": [
    "## Čtení ze souboru a zápis do jiného"
   ]
  },
  {
   "cell_type": "code",
   "execution_count": null,
   "metadata": {},
   "outputs": [],
   "source": [
    "with open(\"apk.py\", \"r\", encoding=\"utf-8\") as fr, \\\n",
    "     open(\"test.txt\", \"w\", encoding=\"utf-8\") as fw:  # zpětné lomítko pro rozdělení dlouhých řádků\n",
    "    for line in fr:\n",
    "        line = line.strip() # z řádku odstraníme bílé znaky\n",
    "        if \":\" in line:\n",
    "            print(line, file=fw)"
   ]
  },
  {
   "cell_type": "markdown",
   "metadata": {},
   "source": [
    "## Binární přístup k souborům\n",
    "\n",
    "Módy `\"rb\"` nebo `\"wb\"`, je nutné zapisovat posloupnosti bytů, vhodné pro zápis binárních formátů. Při použití `b` se nepoužívá `encoding`."
   ]
  },
  {
   "cell_type": "code",
   "execution_count": null,
   "metadata": {},
   "outputs": [],
   "source": [
    "with open(\"test.txt\", \"rb\") as fr:\n",
    "    for line in fr:\n",
    "        line = line.strip()\n",
    "        print(line)"
   ]
  },
  {
   "cell_type": "markdown",
   "metadata": {},
   "source": [
    "# Vestavěné moduly Python 3.7\n",
    "\n",
    "https://docs.python.org/3/py-modindex.html"
   ]
  },
  {
   "cell_type": "markdown",
   "metadata": {},
   "source": [
    "## Modul `os`\n"
   ]
  },
  {
   "cell_type": "code",
   "execution_count": null,
   "metadata": {},
   "outputs": [],
   "source": [
    "import os  # práce s operačním systémem\n",
    "os.mkdir(\"test\") # vytvoření adresáře\n",
    "os.path.join(\"adresář\", \"soubor.txt\")  # spojení názvu adresáře a souboru korektním oddělovačem"
   ]
  },
  {
   "cell_type": "markdown",
   "metadata": {},
   "source": [
    "## Modul `sys`"
   ]
  },
  {
   "cell_type": "code",
   "execution_count": null,
   "metadata": {},
   "outputs": [],
   "source": [
    "import sys  # práce s interpretrem\n",
    "sys.path"
   ]
  },
  {
   "cell_type": "code",
   "execution_count": null,
   "metadata": {},
   "outputs": [],
   "source": [
    "sys.argv  # parametry předané na příkazové řádce"
   ]
  },
  {
   "cell_type": "markdown",
   "metadata": {},
   "source": [
    "## Modul `shutil`"
   ]
  },
  {
   "cell_type": "code",
   "execution_count": null,
   "metadata": {},
   "outputs": [],
   "source": [
    "import shutil  # vysokoúrovňová manipulace se soubory a adresář"
   ]
  },
  {
   "cell_type": "code",
   "execution_count": null,
   "metadata": {},
   "outputs": [],
   "source": [
    "shutil.rmtree(\"test\")  # odstranění adresáře rekurzivně"
   ]
  },
  {
   "cell_type": "code",
   "execution_count": null,
   "metadata": {},
   "outputs": [],
   "source": [
    "shutil.copy(\"apk.py\", \"apk.py.bak\")  # kopie souboru"
   ]
  },
  {
   "cell_type": "markdown",
   "metadata": {},
   "source": [
    "## Modul `urllib`"
   ]
  },
  {
   "cell_type": "code",
   "execution_count": null,
   "metadata": {},
   "outputs": [],
   "source": [
    "import urllib  # pro otevírání internetového obsahu dle URL"
   ]
  },
  {
   "cell_type": "code",
   "execution_count": null,
   "metadata": {},
   "outputs": [],
   "source": [
    "with urllib.request.urlopen(\"https://www.idnes.cz\") as fr:\n",
    "    data = fr.read()  # načtení celého obsahue\n",
    "    data = data.decode(\"cp1250\")\n",
    "    \n",
    "    print(data[:200])"
   ]
  },
  {
   "cell_type": "markdown",
   "metadata": {},
   "source": [
    "## Modul `webbrowser`"
   ]
  },
  {
   "cell_type": "code",
   "execution_count": null,
   "metadata": {},
   "outputs": [],
   "source": [
    "import webbrowser  # otevírání WWW prohlížeče"
   ]
  },
  {
   "cell_type": "code",
   "execution_count": null,
   "metadata": {},
   "outputs": [],
   "source": [
    "webbrowser.open_new_tab(\"https://www.python.org\")"
   ]
  },
  {
   "cell_type": "markdown",
   "metadata": {},
   "source": [
    "# Moduly pro práci s textem"
   ]
  },
  {
   "cell_type": "code",
   "execution_count": null,
   "metadata": {},
   "outputs": [],
   "source": [
    "import re  # regulární výrazy"
   ]
  },
  {
   "cell_type": "code",
   "execution_count": null,
   "metadata": {},
   "outputs": [],
   "source": [
    "import difflib # počítání rozdílů mezi řetězci (diff)"
   ]
  },
  {
   "cell_type": "code",
   "execution_count": null,
   "metadata": {},
   "outputs": [],
   "source": [
    "import struct  # konverze struktur z/do binárních data"
   ]
  },
  {
   "cell_type": "code",
   "execution_count": null,
   "metadata": {},
   "outputs": [],
   "source": [
    "import csv  # načítání comma separated values (CSV) souborů - export například z MS Excel"
   ]
  },
  {
   "cell_type": "code",
   "execution_count": null,
   "metadata": {},
   "outputs": [],
   "source": [
    "import json  # načítání JSON souborů"
   ]
  },
  {
   "cell_type": "markdown",
   "metadata": {},
   "source": [
    "# Další užitečné moduly"
   ]
  },
  {
   "cell_type": "code",
   "execution_count": null,
   "metadata": {},
   "outputs": [],
   "source": [
    "import math  # matematické funkce"
   ]
  },
  {
   "cell_type": "code",
   "execution_count": null,
   "metadata": {},
   "outputs": [],
   "source": [
    "import datetime as dt  # práce s datumem a čase, často aliasováno jako dt\n",
    "\n",
    "t0 = dt.datetime.now()\n",
    "print(t0)\n",
    "t1 = dt.datetime.now()\n",
    "print(t1-t0)"
   ]
  },
  {
   "cell_type": "code",
   "execution_count": null,
   "metadata": {},
   "outputs": [],
   "source": [
    "import decimal  # čísla s pevným počtem desetinných míst\n",
    "import fractions  # čísla reprezentovaná jako zlomek dvou intů"
   ]
  },
  {
   "cell_type": "code",
   "execution_count": null,
   "metadata": {},
   "outputs": [],
   "source": [
    "import random  # náhodná čísla\n",
    "\n",
    "x = random.randint(0, 10)\n",
    "x"
   ]
  },
  {
   "cell_type": "code",
   "execution_count": null,
   "metadata": {},
   "outputs": [],
   "source": [
    "y = [1, 2, 3, 4, 5]\n",
    "random.shuffle(y)  # náhodné zamíchání seznamu, in-place\n",
    "y"
   ]
  },
  {
   "cell_type": "code",
   "execution_count": null,
   "metadata": {},
   "outputs": [],
   "source": [
    "import pickle  # ukládání a načítání objektů do souboru\n",
    "\n",
    "obj = {\"pocet\": 4, \"seznam\": [1, 2, 3, 4]}\n",
    "\n",
    "# Uložení objektu do souboru\n",
    "with open(\"data.pickle\", \"wb\") as fw:\n",
    "    pickle.dump(obj, fw)\n",
    "    pickle.dump(123, fw)"
   ]
  },
  {
   "cell_type": "code",
   "execution_count": null,
   "metadata": {},
   "outputs": [],
   "source": [
    "# Načtení objektu ze souboru\n",
    "with open(\"data.pickle\", \"rb\") as fr:\n",
    "    # Načtení prvního objektu\n",
    "    objekt1 = pickle.load(fr)\n",
    "\n",
    "    # Načtení druhého objektu\n",
    "    objekt2 = pickle.load(fr)"
   ]
  },
  {
   "cell_type": "code",
   "execution_count": null,
   "metadata": {},
   "outputs": [],
   "source": [
    "objekt1"
   ]
  },
  {
   "cell_type": "code",
   "execution_count": null,
   "metadata": {},
   "outputs": [],
   "source": [
    "objekt2"
   ]
  },
  {
   "cell_type": "code",
   "execution_count": null,
   "metadata": {
    "tags": []
   },
   "outputs": [],
   "source": [
    "objekt1 is obj  # objekt1 je kopií (prošel přes soubor) původního obj"
   ]
  }
 ],
 "metadata": {
  "kernelspec": {
   "display_name": "Python 3 (ipykernel)",
   "language": "python",
   "name": "python3"
  },
  "language_info": {
   "codemirror_mode": {
    "name": "ipython",
    "version": 3
   },
   "file_extension": ".py",
   "mimetype": "text/x-python",
   "name": "python",
   "nbconvert_exporter": "python",
   "pygments_lexer": "ipython3",
   "version": "3.12.6"
  }
 },
 "nbformat": 4,
 "nbformat_minor": 4
}
